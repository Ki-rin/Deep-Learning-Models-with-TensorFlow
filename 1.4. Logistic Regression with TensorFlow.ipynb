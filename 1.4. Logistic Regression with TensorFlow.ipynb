{
    "cells": [
        {
            "cell_type": "markdown",
            "metadata": {},
            "source": "<h2>LOGISTIC REGRESSION WITH TENSORFLOW</h2>\n\n<h3>Objective for this Notebook<h3>    \n<h5> 1. What is different between Linear and Logistic Regression?</h5>\n<h5> 2. Utilizing Logistic Regression in TensorFlow. </h5>\n<h5> 3. Training the model </h5>\n"
        },
        {
            "cell_type": "markdown",
            "metadata": {},
            "source": "<a id=\"ref1\"></a>\n\n<h2>What is different between Linear and Logistic Regression?</h2>\n\nWhile Linear Regression is suited for estimating continuous values (e.g. estimating house price), it is not the best tool for predicting the class in which an observed data point belongs. In order to provide estimate for classification, we need some sort of guidance on what would be the <b>most probable class</b> for that data point. For this, we use <b>Logistic Regression</b>.\n\n<div class=\"alert alert-success alertsuccess\" style=\"margin-top: 20px\">\n<font size=\"3\"><strong>Recall linear regression:</strong></font>\n<br>\n<br>\nLinear regression finds a function that relates a continuous dependent variable, <i>y</i>, to some predictors (independent variables <i>x1</i>, <i>x2</i>, etc.). Simple linear regression assumes a function of the form:\n<br><br>\n$$\ny = w0 + w1 \\times x1 + w2 \\times x2 + \\cdots\n$$\n<br>\nand finds the values of <i>w0</i>, <i>w1</i>, <i>w2</i>, etc. The term <i>w0</i> is the \"intercept\" or \"constant term\" (it's shown as <i>b</i> in the formula below):\n<br><br>\n$$\nY = W X + b\n$$\n<p></p>\n\n</div>\n\nLogistic Regression is a variation of Linear Regression, useful when the observed dependent variable, <i>y</i>, is categorical. It produces a formula that predicts the probability of the class label as a function of the independent variables.\n\nDespite the name logistic <i>regression</i>, it is actually a <b>probabilistic classification</b> model. Logistic regression fits a special s-shaped curve by taking the linear regression and transforming the numeric estimate into a probability with the following function:\n\n$$\nProbabilityOfaClass = \\\\theta(y) = \\frac{e^y}{1 + e^y} = exp(y) / (1 + exp(y)) = p \n$$\n\nwhich produces p-values between 0 (as y approaches minus infinity $-\\\\infty$) and 1 (as y approaches plus infinity $+\\infty$). This now becomes a special kind of non-linear regression.\n\nIn this equation, <i>y</i> is the regression result (the sum of the variables weighted by the coefficients), <code>exp</code> is the exponential function and $\\\\theta(y)$ is the <a href=\"http://en.wikipedia.org/wiki/Logistic_function\">logistic function</a>, also called logistic curve. It is a common \"S\" shape (sigmoid curve), and was first developed for modeling population growth.\n\nYou might also have seen this function before, in another configuration:\n\n$$\nProbabilityOfaClass = \\\\theta(y) = \\frac{1}{1+e^{-y}}\n$$\n\nSo, briefly, Logistic Regression passes the input through the logistic/sigmoid function but then treats the result as a probability:\n\n<img src=\"https://ibm.box.com/shared/static/kgv9alcghmjcv97op4d6onkyxevk23b1.png\" width=\"400\" align=\"center\">\n"
        },
        {
            "cell_type": "markdown",
            "metadata": {},
            "source": "* * *\n"
        },
        {
            "cell_type": "markdown",
            "metadata": {},
            "source": "<a id=\"ref2\"></a>\n\n<h2>Utilizing Logistic Regression in TensorFlow</h2>\n\nWe begin by installing TensorFlow version 2.2.0 and its required prerequistes.\n"
        },
        {
            "cell_type": "code",
            "execution_count": 1,
            "metadata": {},
            "outputs": [
                {
                    "name": "stdout",
                    "output_type": "stream",
                    "text": "Requirement already satisfied: grpcio==1.24.3 in /opt/conda/envs/Python-3.7-main/lib/python3.7/site-packages (1.24.3)\nRequirement already satisfied: six>=1.5.2 in /opt/conda/envs/Python-3.7-main/lib/python3.7/site-packages (from grpcio==1.24.3) (1.15.0)\nRequirement already satisfied: tensorflow==2.2.0 in /opt/conda/envs/Python-3.7-main/lib/python3.7/site-packages (2.2.0)\nRequirement already satisfied: six>=1.12.0 in /opt/conda/envs/Python-3.7-main/lib/python3.7/site-packages (from tensorflow==2.2.0) (1.15.0)\nRequirement already satisfied: numpy<2.0,>=1.16.0 in /opt/conda/envs/Python-3.7-main/lib/python3.7/site-packages (from tensorflow==2.2.0) (1.18.5)\nRequirement already satisfied: google-pasta>=0.1.8 in /opt/conda/envs/Python-3.7-main/lib/python3.7/site-packages (from tensorflow==2.2.0) (0.2.0)\nRequirement already satisfied: opt-einsum>=2.3.2 in /opt/conda/envs/Python-3.7-main/lib/python3.7/site-packages (from tensorflow==2.2.0) (3.1.0)\nRequirement already satisfied: protobuf>=3.8.0 in /opt/conda/envs/Python-3.7-main/lib/python3.7/site-packages (from tensorflow==2.2.0) (3.12.3)\nRequirement already satisfied: tensorflow-estimator<2.3.0,>=2.2.0 in /opt/conda/envs/Python-3.7-main/lib/python3.7/site-packages (from tensorflow==2.2.0) (2.2.0)\nRequirement already satisfied: wrapt>=1.11.1 in /opt/conda/envs/Python-3.7-main/lib/python3.7/site-packages (from tensorflow==2.2.0) (1.12.1)\nRequirement already satisfied: gast==0.3.3 in /opt/conda/envs/Python-3.7-main/lib/python3.7/site-packages (from tensorflow==2.2.0) (0.3.3)\nRequirement already satisfied: grpcio>=1.8.6 in /opt/conda/envs/Python-3.7-main/lib/python3.7/site-packages (from tensorflow==2.2.0) (1.24.3)\nRequirement already satisfied: h5py<2.11.0,>=2.10.0 in /opt/conda/envs/Python-3.7-main/lib/python3.7/site-packages (from tensorflow==2.2.0) (2.10.0)\nRequirement already satisfied: scipy==1.4.1; python_version >= \"3\" in /opt/conda/envs/Python-3.7-main/lib/python3.7/site-packages (from tensorflow==2.2.0) (1.4.1)\nRequirement already satisfied: keras-preprocessing>=1.1.0 in /opt/conda/envs/Python-3.7-main/lib/python3.7/site-packages (from tensorflow==2.2.0) (1.1.0)\nRequirement already satisfied: wheel>=0.26; python_version >= \"3\" in /opt/conda/envs/Python-3.7-main/lib/python3.7/site-packages (from tensorflow==2.2.0) (0.34.2)\nRequirement already satisfied: astunparse==1.6.3 in /opt/conda/envs/Python-3.7-main/lib/python3.7/site-packages (from tensorflow==2.2.0) (1.6.3)\nRequirement already satisfied: tensorboard<2.3.0,>=2.2.0 in /opt/conda/envs/Python-3.7-main/lib/python3.7/site-packages (from tensorflow==2.2.0) (2.2.2)\nRequirement already satisfied: termcolor>=1.1.0 in /opt/conda/envs/Python-3.7-main/lib/python3.7/site-packages (from tensorflow==2.2.0) (1.1.0)\nRequirement already satisfied: absl-py>=0.7.0 in /opt/conda/envs/Python-3.7-main/lib/python3.7/site-packages (from tensorflow==2.2.0) (0.9.0)\nRequirement already satisfied: setuptools in /opt/conda/envs/Python-3.7-main/lib/python3.7/site-packages (from protobuf>=3.8.0->tensorflow==2.2.0) (47.3.1.post20200622)\nRequirement already satisfied: markdown>=2.6.8 in /opt/conda/envs/Python-3.7-main/lib/python3.7/site-packages (from tensorboard<2.3.0,>=2.2.0->tensorflow==2.2.0) (3.1.1)\nRequirement already satisfied: requests<3,>=2.21.0 in /opt/conda/envs/Python-3.7-main/lib/python3.7/site-packages (from tensorboard<2.3.0,>=2.2.0->tensorflow==2.2.0) (2.24.0)\nRequirement already satisfied: werkzeug>=0.11.15 in /opt/conda/envs/Python-3.7-main/lib/python3.7/site-packages (from tensorboard<2.3.0,>=2.2.0->tensorflow==2.2.0) (1.0.1)\nRequirement already satisfied: google-auth<2,>=1.6.3 in /opt/conda/envs/Python-3.7-main/lib/python3.7/site-packages (from tensorboard<2.3.0,>=2.2.0->tensorflow==2.2.0) (1.22.0)\nRequirement already satisfied: tensorboard-plugin-wit>=1.6.0 in /opt/conda/envs/Python-3.7-main/lib/python3.7/site-packages (from tensorboard<2.3.0,>=2.2.0->tensorflow==2.2.0) (1.7.0)\nRequirement already satisfied: google-auth-oauthlib<0.5,>=0.4.1 in /opt/conda/envs/Python-3.7-main/lib/python3.7/site-packages (from tensorboard<2.3.0,>=2.2.0->tensorflow==2.2.0) (0.4.1)\nRequirement already satisfied: idna<3,>=2.5 in /opt/conda/envs/Python-3.7-main/lib/python3.7/site-packages (from requests<3,>=2.21.0->tensorboard<2.3.0,>=2.2.0->tensorflow==2.2.0) (2.9)\nRequirement already satisfied: chardet<4,>=3.0.2 in /opt/conda/envs/Python-3.7-main/lib/python3.7/site-packages (from requests<3,>=2.21.0->tensorboard<2.3.0,>=2.2.0->tensorflow==2.2.0) (3.0.4)\nRequirement already satisfied: urllib3!=1.25.0,!=1.25.1,<1.26,>=1.21.1 in /opt/conda/envs/Python-3.7-main/lib/python3.7/site-packages (from requests<3,>=2.21.0->tensorboard<2.3.0,>=2.2.0->tensorflow==2.2.0) (1.25.9)\nRequirement already satisfied: certifi>=2017.4.17 in /opt/conda/envs/Python-3.7-main/lib/python3.7/site-packages (from requests<3,>=2.21.0->tensorboard<2.3.0,>=2.2.0->tensorflow==2.2.0) (2020.12.5)\nRequirement already satisfied: pyasn1-modules>=0.2.1 in /opt/conda/envs/Python-3.7-main/lib/python3.7/site-packages (from google-auth<2,>=1.6.3->tensorboard<2.3.0,>=2.2.0->tensorflow==2.2.0) (0.2.8)\nRequirement already satisfied: rsa<5,>=3.1.4; python_version >= \"3.5\" in /opt/conda/envs/Python-3.7-main/lib/python3.7/site-packages (from google-auth<2,>=1.6.3->tensorboard<2.3.0,>=2.2.0->tensorflow==2.2.0) (4.6)\nRequirement already satisfied: cachetools<5.0,>=2.0.0 in /opt/conda/envs/Python-3.7-main/lib/python3.7/site-packages (from google-auth<2,>=1.6.3->tensorboard<2.3.0,>=2.2.0->tensorflow==2.2.0) (4.1.1)\nRequirement already satisfied: aiohttp<4.0.0dev,>=3.6.2; python_version >= \"3.6\" in /opt/conda/envs/Python-3.7-main/lib/python3.7/site-packages (from google-auth<2,>=1.6.3->tensorboard<2.3.0,>=2.2.0->tensorflow==2.2.0) (3.6.2)\nRequirement already satisfied: requests-oauthlib>=0.7.0 in /opt/conda/envs/Python-3.7-main/lib/python3.7/site-packages (from google-auth-oauthlib<0.5,>=0.4.1->tensorboard<2.3.0,>=2.2.0->tensorflow==2.2.0) (1.3.0)\nRequirement already satisfied: pyasn1<0.5.0,>=0.4.6 in /opt/conda/envs/Python-3.7-main/lib/python3.7/site-packages (from pyasn1-modules>=0.2.1->google-auth<2,>=1.6.3->tensorboard<2.3.0,>=2.2.0->tensorflow==2.2.0) (0.4.8)\nRequirement already satisfied: multidict<5.0,>=4.5 in /opt/conda/envs/Python-3.7-main/lib/python3.7/site-packages (from aiohttp<4.0.0dev,>=3.6.2; python_version >= \"3.6\"->google-auth<2,>=1.6.3->tensorboard<2.3.0,>=2.2.0->tensorflow==2.2.0) (4.7.6)\nRequirement already satisfied: async-timeout<4.0,>=3.0 in /opt/conda/envs/Python-3.7-main/lib/python3.7/site-packages (from aiohttp<4.0.0dev,>=3.6.2; python_version >= \"3.6\"->google-auth<2,>=1.6.3->tensorboard<2.3.0,>=2.2.0->tensorflow==2.2.0) (3.0.1)\nRequirement already satisfied: attrs>=17.3.0 in /opt/conda/envs/Python-3.7-main/lib/python3.7/site-packages (from aiohttp<4.0.0dev,>=3.6.2; python_version >= \"3.6\"->google-auth<2,>=1.6.3->tensorboard<2.3.0,>=2.2.0->tensorflow==2.2.0) (19.3.0)\nRequirement already satisfied: yarl<2.0,>=1.0 in /opt/conda/envs/Python-3.7-main/lib/python3.7/site-packages (from aiohttp<4.0.0dev,>=3.6.2; python_version >= \"3.6\"->google-auth<2,>=1.6.3->tensorboard<2.3.0,>=2.2.0->tensorflow==2.2.0) (1.5.1)\nRequirement already satisfied: oauthlib>=3.0.0 in /opt/conda/envs/Python-3.7-main/lib/python3.7/site-packages (from requests-oauthlib>=0.7.0->google-auth-oauthlib<0.5,>=0.4.1->tensorboard<2.3.0,>=2.2.0->tensorflow==2.2.0) (3.1.0)\nRequirement already satisfied: typing-extensions>=3.7.4; python_version < \"3.8\" in /opt/conda/envs/Python-3.7-main/lib/python3.7/site-packages (from yarl<2.0,>=1.0->aiohttp<4.0.0dev,>=3.6.2; python_version >= \"3.6\"->google-auth<2,>=1.6.3->tensorboard<2.3.0,>=2.2.0->tensorflow==2.2.0) (3.7.4.2)\n"
                }
            ],
            "source": "!pip install grpcio==1.24.3\n!pip install tensorflow==2.2.0"
        },
        {
            "cell_type": "markdown",
            "metadata": {},
            "source": "**Restart kernel for latest version of TensorFlow to be activated**\n"
        },
        {
            "cell_type": "markdown",
            "metadata": {},
            "source": "For us to utilize Logistic Regression in TensorFlow, we first need to import the required libraries. To do so, you can run the code cell below.\n"
        },
        {
            "cell_type": "code",
            "execution_count": 1,
            "metadata": {},
            "outputs": [],
            "source": "import tensorflow as tf\nimport pandas as pd\nimport numpy as np\nimport time\nfrom sklearn.datasets import load_iris\nfrom sklearn.model_selection import train_test_split\nimport matplotlib.pyplot as plt"
        },
        {
            "cell_type": "code",
            "execution_count": 2,
            "metadata": {},
            "outputs": [],
            "source": "if not tf.__version__ == '2.2.0':\n    print(tf.__version__)\n    raise ValueError('please upgrade to TensorFlow 2.2.0, or restart your Kernel (Kernel->Restart & Clear Output)')"
        },
        {
            "cell_type": "markdown",
            "metadata": {},
            "source": "IMPORTANT! => Please restart the kernel by clicking on \"Kernel\"->\"Restart and Clear Outout\" and wait until all output disapears. Then your changes are beeing picked up\n"
        },
        {
            "cell_type": "markdown",
            "metadata": {},
            "source": "Next, we will load the dataset we are going to use. In this case, we are utilizing the <code>iris</code> dataset, which is inbuilt -- so there's no need to do any preprocessing and we can jump right into manipulating it. We separate the dataset into <i>xs</i> and <i>ys</i>, and then into training <i>xs</i> and <i>ys</i> and testing <i>xs</i> and <i>ys</i>, (pseudo)randomly.\n"
        },
        {
            "cell_type": "markdown",
            "metadata": {},
            "source": "<h3>Understanding the Data</h3>\n\n<h4><code>Iris Dataset</code>:</h4>\nThis dataset was introduced by British Statistician and Biologist Ronald Fisher, it consists of 50 samples from each of three species of Iris (Iris setosa, Iris virginica and Iris versicolor). In total it has 150 records under five attributes - petal length, petal width, sepal length, sepal width and species. <a href=\"https://archive.ics.uci.edu/ml/datasets/iris\">Dataset source</a>\n\nAttributes\nIndependent Variable\n\n<ul>\n    <li>petal length</li>\n    <li>petal width</li>\n    <li>sepal length</li>\n    <li>sepal width</li>\n</ul>\nDependent Variable\n<ul>    \n    <li>Species\n        <ul>\n            <li>Iris setosa</li>\n            <li>Iris virginica</li>\n            <li>Iris versicolor</li>\n        </ul>\n    </li>\n</ul>\n<br>\n"
        },
        {
            "cell_type": "code",
            "execution_count": 3,
            "metadata": {},
            "outputs": [],
            "source": "iris = load_iris()\niris_X, iris_y = iris.data[:-1,:], iris.target[:-1]\niris_y= pd.get_dummies(iris_y).values\ntrainX, testX, trainY, testY = train_test_split(iris_X, iris_y, test_size=0.33, random_state=42)"
        },
        {
            "cell_type": "markdown",
            "metadata": {},
            "source": "Now we define x and y. These variables will hold our iris data (both the features and label matrices) We also need to give them shapes which correspond to the shape of our data. \n"
        },
        {
            "cell_type": "code",
            "execution_count": 4,
            "metadata": {},
            "outputs": [
                {
                    "name": "stdout",
                    "output_type": "stream",
                    "text": "numFeatures is :  4\nnumLabels is :  3\n"
                }
            ],
            "source": "# numFeatures is the number of features in our input data.\n# In the iris dataset, this number is '4'.\nnumFeatures = trainX.shape[1]\nprint('numFeatures is : ', numFeatures )\n# numLabels is the number of classes our data points can be in.\n# In the iris dataset, this number is '3'.\nnumLabels = trainY.shape[1]\nprint('numLabels is : ', numLabels )\n\n#X = tf.Variable( np.identity(numFeatures), tf.TensorShape(numFeatures),dtype='float32') # Iris has 4 features, so X is a tensor to hold our data.\n#yGold = tf.Variable(np.array([1,1,1]),shape=tf.TensorShape(numLabels),dtype='float32') # This will be our correct answers matrix for 3 classes."
        },
        {
            "cell_type": "code",
            "execution_count": 5,
            "metadata": {},
            "outputs": [],
            "source": "trainX = tf.constant(trainX, dtype='float32')\ntrainY = tf.constant(trainY, dtype='float32')\ntestX = tf.constant(testX, dtype='float32')\ntestY = tf.constant(testY, dtype='float32')"
        },
        {
            "cell_type": "markdown",
            "metadata": {},
            "source": "<h3>Set model weights and bias</h3>\n\nMuch like Linear Regression, we need a shared variable weight matrix for Logistic Regression. We initialize both <code>W</code> and <code>b</code> as tensors full of zeros. Since we are going to learn <code>W</code> and <code>b</code>, their initial value does not matter too much. These variables are the objects which define the structure of our regression model, and we can save them after they have been trained so we can reuse them later.\n\nWe define two TensorFlow variables as our parameters. These variables will hold the weights and biases of our logistic regression and they will be continually updated during training. \n\nNotice that <code>W</code> has a shape of [4, 3] because we want to multiply the 4-dimensional input vectors by it to produce 3-dimensional vectors of evidence for the difference classes. <code>b</code> has a shape of [3] so we can add it to the output. TensorFlow variables need to be initialized with values, e.g. with zeros.\n"
        },
        {
            "cell_type": "code",
            "execution_count": 6,
            "metadata": {},
            "outputs": [],
            "source": "W = tf.Variable(tf.zeros([4, 3]))  # 4-dimensional input and  3 classes\nb = tf.Variable(tf.zeros([3])) # 3-dimensional output [0,0,1],[0,1,0],[1,0,0]"
        },
        {
            "cell_type": "code",
            "execution_count": 7,
            "metadata": {},
            "outputs": [],
            "source": "#Randomly sample from a normal distribution with standard deviation .01\n\nweights = tf.Variable(tf.random.normal([numFeatures,numLabels],\n                                       mean=0.,\n                                       stddev=0.01,\n                                       name=\"weights\"),dtype='float32')\n\n\nbias = tf.Variable(tf.random.normal([1,numLabels],\n                                    mean=0.,\n                                    stddev=0.01,\n                                    name=\"bias\"))\n"
        },
        {
            "cell_type": "markdown",
            "metadata": {},
            "source": "<h3>Logistic Regression model</h3>\n\nWe now define our operations in order to properly run the Logistic Regression. Logistic regression is typically thought of as a single equation:\n\n$$\n\u0177 =sigmoid(WX+b)\n$$\n\nHowever, for the sake of clarity, we can have it broken into its three main components: \n\n-   a weight times features matrix multiplication operation, \n-   a summation of the weighted features and a bias term, \n-   and finally the application of a sigmoid function. \n\nAs such, you will find these components defined as three separate operations below.\n"
        },
        {
            "cell_type": "code",
            "execution_count": 8,
            "metadata": {},
            "outputs": [],
            "source": "# Three-component breakdown of the Logistic Regression equation.\n# Note that these feed into each other.\ndef logistic_regression(x):\n    apply_weights_OP = tf.matmul(x, weights, name=\"apply_weights\")\n    add_bias_OP = tf.add(apply_weights_OP, bias, name=\"add_bias\") \n    activation_OP = tf.nn.sigmoid(add_bias_OP, name=\"activation\")\n    return activation_OP"
        },
        {
            "cell_type": "markdown",
            "metadata": {},
            "source": "As we have seen before, the function we are going to use is the <i>logistic function</i> $(\\\\frac{1}{1+e^{-Wx}})$, which is fed the input data after applying weights and bias. In TensorFlow, this function is implemented as the <code>nn.sigmoid</code> function. Effectively, this fits the weighted input with bias into a 0-100 percent curve, which is the probability function we want.\n"
        },
        {
            "cell_type": "markdown",
            "metadata": {},
            "source": "<hr>\n"
        },
        {
            "cell_type": "markdown",
            "metadata": {},
            "source": "<a id=\"ref3\"></a>\n\n<h2>Training</h2>\n\nThe learning algorithm is how we search for the best weight vector (${\\\\bf w}$). This search is an optimization problem looking for the hypothesis that optimizes an error/cost measure.\n\n<b>What tell us our model is bad?</b>  \nThe Cost or Loss of the model, so what we want is to minimize that. \n\n<h3>Cost function</h3>\nBefore defining our cost function, we need to define how long we are going to train and how should we define the learning rate.\n"
        },
        {
            "cell_type": "code",
            "execution_count": 9,
            "metadata": {},
            "outputs": [],
            "source": "# Number of Epochs in our training\nnumEpochs = 700\n\n# Defining our learning rate iterations (decay)\nlearningRate = tf.keras.optimizers.schedules.ExponentialDecay(initial_learning_rate=0.0008,\n                                          decay_steps=trainX.shape[0],\n                                          decay_rate= 0.95,\n                                          staircase=True)"
        },
        {
            "cell_type": "markdown",
            "metadata": {},
            "source": "<b>What is the cost function in our model?</b>  \nThe cost function we are going to utilize is the Squared Mean Error loss function.\n\n<b>How to minimize the cost function?</b>  \nWe can't use <b>least-squares linear regression</b> here, so we will use <a href=\"http://en.wikipedia.org/wiki/Gradient_descent\">gradient descent</a> instead. Specifically, we will use batch gradient descent which calculates the gradient from all data points in the data set.\n"
        },
        {
            "cell_type": "code",
            "execution_count": 10,
            "metadata": {},
            "outputs": [],
            "source": "#Defining our cost function - Squared Mean Error\nloss_object = tf.keras.losses.MeanSquaredLogarithmicError()\noptimizer = tf.keras.optimizers.SGD(learningRate)"
        },
        {
            "cell_type": "markdown",
            "metadata": {},
            "source": "We also want some additional operations to keep track of our model's efficiency over time. We can do this like so:\n"
        },
        {
            "cell_type": "code",
            "execution_count": 11,
            "metadata": {},
            "outputs": [],
            "source": "# Accuracy metric.\ndef accuracy(y_pred, y_true):\n# Predicted class is the index of the highest score in prediction vector (i.e. argmax).\n\n    correct_prediction = tf.equal(tf.argmax(y_pred, 1), tf.argmax(y_true, 1))\n\n    return tf.reduce_mean(tf.cast(correct_prediction, tf.float32))"
        },
        {
            "cell_type": "markdown",
            "metadata": {},
            "source": "we first wrap computation inside a GradientTape for automatic differentiation. Then we compute gradients and update W and b.\n"
        },
        {
            "cell_type": "code",
            "execution_count": 12,
            "metadata": {},
            "outputs": [],
            "source": "# Optimization process. \n\ndef run_optimization(x, y):\n    with tf.GradientTape() as g:\n        pred = logistic_regression(x)\n        loss = loss_object(pred, y)\n    gradients = g.gradient(loss, [weights, bias])\n    optimizer.apply_gradients(zip(gradients, [weights, bias]))"
        },
        {
            "cell_type": "markdown",
            "metadata": {},
            "source": "Now we move on to actually running our operations. We will start with the operations involved in the prediction phase (i.e. the logistic regression itself).\n"
        },
        {
            "cell_type": "markdown",
            "metadata": {},
            "source": "Now we can define and run the actual training loop, like this:\n"
        },
        {
            "cell_type": "code",
            "execution_count": 13,
            "metadata": {},
            "outputs": [
                {
                    "name": "stdout",
                    "output_type": "stream",
                    "text": "step 0, training accuracy 0.32, loss 0.137013, change in loss 0.137013\nstep 10, training accuracy 0.32, loss 0.136432, change in loss 0.000581577\nstep 20, training accuracy 0.32, loss 0.135858, change in loss 0.000573456\nstep 30, training accuracy 0.32, loss 0.135293, change in loss 0.000565365\nstep 40, training accuracy 0.32, loss 0.134736, change in loss 0.000557259\nstep 50, training accuracy 0.32, loss 0.134186, change in loss 0.000549123\nstep 60, training accuracy 0.32, loss 0.133645, change in loss 0.000541061\nstep 70, training accuracy 0.32, loss 0.133112, change in loss 0.00053294\nstep 80, training accuracy 0.32, loss 0.132588, change in loss 0.000524864\nstep 90, training accuracy 0.32, loss 0.132071, change in loss 0.000516817\nstep 100, training accuracy 0.32, loss 0.131567, change in loss 0.000503749\nstep 110, training accuracy 0.32, loss 0.131091, change in loss 0.000476018\nstep 120, training accuracy 0.32, loss 0.130622, change in loss 0.00046885\nstep 130, training accuracy 0.32, loss 0.13016, change in loss 0.000461712\nstep 140, training accuracy 0.32, loss 0.129706, change in loss 0.000454605\nstep 150, training accuracy 0.32, loss 0.129258, change in loss 0.000447571\nstep 160, training accuracy 0.32, loss 0.128818, change in loss 0.000440538\nstep 170, training accuracy 0.32, loss 0.128384, change in loss 0.000433609\nstep 180, training accuracy 0.32, loss 0.127957, change in loss 0.00042671\nstep 190, training accuracy 0.32, loss 0.127538, change in loss 0.00041987\nstep 200, training accuracy 0.32, loss 0.127131, change in loss 0.000406921\nstep 210, training accuracy 0.32, loss 0.126744, change in loss 0.000386298\nstep 220, training accuracy 0.32, loss 0.126364, change in loss 0.000380307\nstep 230, training accuracy 0.32, loss 0.12599, change in loss 0.000374332\nstep 240, training accuracy 0.32, loss 0.125621, change in loss 0.000368431\nstep 250, training accuracy 0.32, loss 0.125259, change in loss 0.000362635\nstep 260, training accuracy 0.32, loss 0.124902, change in loss 0.00035686\nstep 270, training accuracy 0.32, loss 0.124551, change in loss 0.000351161\nstep 280, training accuracy 0.32, loss 0.124205, change in loss 0.000345521\nstep 290, training accuracy 0.32, loss 0.123865, change in loss 0.000339963\nstep 300, training accuracy 0.32, loss 0.123537, change in loss 0.000327796\nstep 310, training accuracy 0.32, loss 0.123225, change in loss 0.00031279\nstep 320, training accuracy 0.32, loss 0.122917, change in loss 0.000307947\nstep 330, training accuracy 0.32, loss 0.122613, change in loss 0.000303172\nstep 340, training accuracy 0.32, loss 0.122315, change in loss 0.000298433\nstep 350, training accuracy 0.32, loss 0.122021, change in loss 0.000293761\nstep 360, training accuracy 0.32, loss 0.121732, change in loss 0.000289164\nstep 370, training accuracy 0.32, loss 0.121447, change in loss 0.000284612\nstep 380, training accuracy 0.32, loss 0.121167, change in loss 0.000280149\nstep 390, training accuracy 0.32, loss 0.120892, change in loss 0.000275716\nstep 400, training accuracy 0.32, loss 0.120627, change in loss 0.000264637\nstep 410, training accuracy 0.32, loss 0.120373, change in loss 0.000253923\nstep 420, training accuracy 0.32, loss 0.120123, change in loss 0.000250094\nstep 430, training accuracy 0.32, loss 0.119877, change in loss 0.000246324\nstep 440, training accuracy 0.32, loss 0.119634, change in loss 0.000242598\nstep 450, training accuracy 0.32, loss 0.119395, change in loss 0.000238933\nstep 460, training accuracy 0.32, loss 0.11916, change in loss 0.000235327\nstep 470, training accuracy 0.32, loss 0.118928, change in loss 0.000231773\nstep 480, training accuracy 0.32, loss 0.1187, change in loss 0.000228256\nstep 490, training accuracy 0.32, loss 0.118475, change in loss 0.000224806\nstep 500, training accuracy 0.32, loss 0.11826, change in loss 0.000214793\nstep 510, training accuracy 0.32, loss 0.118053, change in loss 0.000207305\nstep 520, training accuracy 0.32, loss 0.117848, change in loss 0.000204325\nstep 530, training accuracy 0.32, loss 0.117647, change in loss 0.000201374\nstep 540, training accuracy 0.32, loss 0.117449, change in loss 0.000198498\nstep 550, training accuracy 0.32, loss 0.117253, change in loss 0.000195637\nstep 560, training accuracy 0.32, loss 0.11706, change in loss 0.000192806\nstep 570, training accuracy 0.32, loss 0.11687, change in loss 0.000190049\nstep 580, training accuracy 0.32, loss 0.116683, change in loss 0.00018733\nstep 590, training accuracy 0.32, loss 0.116498, change in loss 0.000184633\nstep 600, training accuracy 0.32, loss 0.116322, change in loss 0.000175662\nstep 610, training accuracy 0.32, loss 0.116152, change in loss 0.000170559\nstep 620, training accuracy 0.32, loss 0.115984, change in loss 0.000168227\nstep 630, training accuracy 0.32, loss 0.115818, change in loss 0.000165969\nstep 640, training accuracy 0.32, loss 0.115654, change in loss 0.000163697\nstep 650, training accuracy 0.32, loss 0.115493, change in loss 0.000161484\nstep 660, training accuracy 0.32, loss 0.115333, change in loss 0.000159316\nstep 670, training accuracy 0.32, loss 0.115176, change in loss 0.00015714\nstep 680, training accuracy 0.32, loss 0.115021, change in loss 0.000155039\nstep 690, training accuracy 0.32, loss 0.114868, change in loss 0.00015296\nfinal accuracy on test set: 0.32\n"
                }
            ],
            "source": "# Initialize reporting variables\ndisplay_step = 10\nepoch_values = []\naccuracy_values = []\nloss_values = []\nloss = 0\ndiff = 1\n# Training epochs\nfor i in range(numEpochs):\n    if i > 1 and diff < .0001:\n        print(\"change in loss %g; convergence.\"%diff)\n        break\n    else:\n        # Run training step\n        run_optimization(trainX, trainY)\n        \n        # Report occasional stats\n        if i % display_step == 0:\n            # Add epoch to epoch_values\n            epoch_values.append(i)\n            \n            pred = logistic_regression(testX)\n\n            newLoss = loss_object(pred, testY)\n            # Add loss to live graphing variable\n            loss_values.append(newLoss)\n            \n            # Generate accuracy stats on test data\n            acc = accuracy(pred, testY)\n            accuracy_values.append(acc)\n            \n    \n            # Re-assign values for variables\n            diff = abs(newLoss - loss)\n            loss = newLoss\n\n            #generate print statements\n            print(\"step %d, training accuracy %g, loss %g, change in loss %g\"%(i, acc, newLoss, diff))\n\n        \n\n          \n\n# How well do we perform on held-out test data?\nprint(\"final accuracy on test set: %s\" %acc.numpy())\n\n\n"
        },
        {
            "cell_type": "markdown",
            "metadata": {},
            "source": "<b>Why don't we plot the loss to see how it behaves?</b>\n"
        },
        {
            "cell_type": "code",
            "execution_count": 14,
            "metadata": {},
            "outputs": [
                {
                    "name": "stderr",
                    "output_type": "stream",
                    "text": "/opt/conda/envs/Python-3.7-main/lib/python3.7/site-packages/numpy/core/fromnumeric.py:3335: RuntimeWarning: Mean of empty slice.\n  out=out, **kwargs)\n/opt/conda/envs/Python-3.7-main/lib/python3.7/site-packages/numpy/core/_methods.py:161: RuntimeWarning: invalid value encountered in double_scalars\n  ret = ret.dtype.type(ret / rcount)\n"
                },
                {
                    "data": {
                        "image/png": "[encoded data removed]",
                        "text/plain": "<Figure size 432x288 with 1 Axes>"
                    },
                    "metadata": {
                        "needs_background": "light"
                    },
                    "output_type": "display_data"
                }
            ],
            "source": "%matplotlib inline\nimport numpy as np\nimport matplotlib.pyplot as plt\nplt.plot([np.mean(loss_values[i-50:i]) for i in range(len(loss_values))])\nplt.show()"
        },
        {
            "cell_type": "markdown",
            "metadata": {},
            "source": " Try changing the parameters such as the length of training, and maybe some operations to see how the model behaves. Does it take much longer? How is the performance?\n"
        }
    ],
    "metadata": {
        "kernelspec": {
            "display_name": "Python 3.7",
            "language": "python",
            "name": "python3"
        },
        "language_info": {
            "codemirror_mode": {
                "name": "ipython",
                "version": 3
            },
            "file_extension": ".py",
            "mimetype": "text/x-python",
            "name": "python",
            "nbconvert_exporter": "python",
            "pygments_lexer": "ipython3",
            "version": "3.7.9"
        }
    },
    "nbformat": 4,
    "nbformat_minor": 4
}