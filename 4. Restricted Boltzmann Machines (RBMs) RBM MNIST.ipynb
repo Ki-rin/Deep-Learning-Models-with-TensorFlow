{
    "cells": [
        {
            "cell_type": "markdown",
            "metadata": {},
            "source": "<h1 align=\"center\"><font size=\"5\">RESTRICTED BOLTZMANN MACHINES</font></h1>"
        },
        {
            "cell_type": "markdown",
            "metadata": {},
            "source": "<h3>Introduction</h3>\n<b>Restricted Boltzmann Machine (RBM):</b>  RBMs are shallow neural nets that learn to reconstruct data by themselves in an unsupervised fashion.  \n\n<h4>Why are RBMs important?</h4>\nAn RBM are a basic form of autoencoder.  It can automatically extract <b>meaningful</b> features from a given input.\n\n<h4>How does it work?</h4>\nRBM is a 2 layer neural network. Simply, RBM takes the inputs and translates those into a set of binary values that represents them in the hidden layer. Then, these numbers can be translated back to reconstruct the inputs. Through several forward and backward passes, the RBM will be trained, and a trained RBM can reveal which features are the most important ones when detecting patterns.   \n\n<h4>What are the applications of an RBM?</h4>\nRBM is useful for <a href='http://www.cs.utoronto.ca/~hinton/absps/netflixICML.pdf'>  Collaborative Filtering</a>, dimensionality reduction, classification, regression, feature learning, topic modeling and even <b>Deep Belief Networks</b>.\n\n<h4>Is RBM a generative or Discriminative model?</h4>\nRBM is a generative model. Let me explain it by first, see what is different between discriminative and generative models: \n\n<b>Discriminative:</b> Consider a classification problem where we want to learn to distinguish between Sedan cars (y = 1) and SUV cars (y = 0), based on some features of cars. Given a training set, an algorithm like logistic regression tries to find a straight line, or <i>decision boundary</i>, that separates the suv and sedan.  \n\n<b>Generative:</b> looking at cars, we can build a model of what Sedan cars look like. Then, looking at SUVs, we can build a separate model of what SUV cars look like. Finally, to classify a new car, we can match the new car against the Sedan model, and match it against the SUV model, to see whether the new car looks more like the SUV or Sedan. \n\nGenerative Models specify a probability distribution over a dataset of input vectors. We can carry out both supervised and unsupervised tasks with generative models:\n\n<ul>\n    <li>In an unsupervised task, we try to form a model for $P(x)$, where $P$ is the probability given $x$ as an input vector.</li>\n    <li>In the supervised task, we first form a model for $P(x|y)$, where $P$ is the probability of $x$ given $y$(the label for $x$). For example, if $y = 0$ indicates that a car is an SUV, and $y = 1$ indicates that a car is a sedan, then $p(x|y = 0)$ models the distribution of SUV features, and $p(x|y = 1)$ models the distribution of sedan features. If we manage to find $P(x|y)$ and $P(y)$, then we can use <b>Bayes rule</b> to estimate $P(y|x)$, because:   \n        $$p(y|x) = \\frac{p(x|y)p(y)}{p(x)}$$</li>\n</ul>\nNow the question is, can we build a generative model, and then use it to create synthetic data by directly sampling from the modeled probability distributions? Lets see. \n"
        },
        {
            "cell_type": "markdown",
            "metadata": {},
            "source": "<a id=\"ref1\"></a>\n\n<h3>Initialization</h3>\n\nFirst, we have to load the utility file which contains different utility functions that are not connected\nin any way to the networks presented in the tutorials, but rather help in\nprocessing the outputs into a more understandable way.\n"
        },
        {
            "cell_type": "code",
            "execution_count": 1,
            "metadata": {},
            "outputs": [],
            "source": "import urllib.request\nwith urllib.request.urlopen(\"https://cf-courses-data.s3.us.cloud-object-storage.appdomain.cloud/IBMDeveloperSkillsNetwork-DL0120EN-SkillsNetwork/labs/Week4/data/utils.py\") as url:\n    response = url.read()\ntarget = open('utils.py', 'w')\ntarget.write(response.decode('utf-8'))\ntarget.close()"
        },
        {
            "cell_type": "markdown",
            "metadata": {},
            "source": "<h2>Installing TensorFlow </h2>\n\nWe will installing TensorFlow version 2.2.0 and its required prerequistes.  Also installing pillow...\n"
        },
        {
            "cell_type": "code",
            "execution_count": 2,
            "metadata": {},
            "outputs": [
                {
                    "name": "stdout",
                    "output_type": "stream",
                    "text": "Requirement already satisfied: grpcio==1.24.3 in /opt/conda/envs/Python-3.7-main/lib/python3.7/site-packages (1.24.3)\nRequirement already satisfied: six>=1.5.2 in /opt/conda/envs/Python-3.7-main/lib/python3.7/site-packages (from grpcio==1.24.3) (1.15.0)\nCollecting tensorflow==2.2.0\n  Using cached tensorflow-2.2.0-cp37-cp37m-manylinux2010_x86_64.whl (516.2 MB)\nRequirement already satisfied: grpcio>=1.8.6 in /opt/conda/envs/Python-3.7-main/lib/python3.7/site-packages (from tensorflow==2.2.0) (1.24.3)\nRequirement already satisfied: astunparse==1.6.3 in /opt/conda/envs/Python-3.7-main/lib/python3.7/site-packages (from tensorflow==2.2.0) (1.6.3)\nRequirement already satisfied: h5py<2.11.0,>=2.10.0 in /opt/conda/envs/Python-3.7-main/lib/python3.7/site-packages (from tensorflow==2.2.0) (2.10.0)\nCollecting tensorboard<2.3.0,>=2.2.0\n  Using cached tensorboard-2.2.2-py3-none-any.whl (3.0 MB)\nRequirement already satisfied: protobuf>=3.8.0 in /opt/conda/envs/Python-3.7-main/lib/python3.7/site-packages (from tensorflow==2.2.0) (3.12.3)\nRequirement already satisfied: numpy<2.0,>=1.16.0 in /opt/conda/envs/Python-3.7-main/lib/python3.7/site-packages (from tensorflow==2.2.0) (1.18.5)\nCollecting tensorflow-estimator<2.3.0,>=2.2.0\n  Using cached tensorflow_estimator-2.2.0-py2.py3-none-any.whl (454 kB)\nRequirement already satisfied: gast==0.3.3 in /opt/conda/envs/Python-3.7-main/lib/python3.7/site-packages (from tensorflow==2.2.0) (0.3.3)\nRequirement already satisfied: wheel>=0.26; python_version >= \"3\" in /opt/conda/envs/Python-3.7-main/lib/python3.7/site-packages (from tensorflow==2.2.0) (0.34.2)\nRequirement already satisfied: scipy==1.4.1; python_version >= \"3\" in /opt/conda/envs/Python-3.7-main/lib/python3.7/site-packages (from tensorflow==2.2.0) (1.4.1)\nRequirement already satisfied: opt-einsum>=2.3.2 in /opt/conda/envs/Python-3.7-main/lib/python3.7/site-packages (from tensorflow==2.2.0) (3.1.0)\nRequirement already satisfied: six>=1.12.0 in /opt/conda/envs/Python-3.7-main/lib/python3.7/site-packages (from tensorflow==2.2.0) (1.15.0)\nRequirement already satisfied: absl-py>=0.7.0 in /opt/conda/envs/Python-3.7-main/lib/python3.7/site-packages (from tensorflow==2.2.0) (0.9.0)\nRequirement already satisfied: google-pasta>=0.1.8 in /opt/conda/envs/Python-3.7-main/lib/python3.7/site-packages (from tensorflow==2.2.0) (0.2.0)\nRequirement already satisfied: keras-preprocessing>=1.1.0 in /opt/conda/envs/Python-3.7-main/lib/python3.7/site-packages (from tensorflow==2.2.0) (1.1.0)\nRequirement already satisfied: wrapt>=1.11.1 in /opt/conda/envs/Python-3.7-main/lib/python3.7/site-packages (from tensorflow==2.2.0) (1.12.1)\nRequirement already satisfied: termcolor>=1.1.0 in /opt/conda/envs/Python-3.7-main/lib/python3.7/site-packages (from tensorflow==2.2.0) (1.1.0)\nRequirement already satisfied: markdown>=2.6.8 in /opt/conda/envs/Python-3.7-main/lib/python3.7/site-packages (from tensorboard<2.3.0,>=2.2.0->tensorflow==2.2.0) (3.1.1)\nRequirement already satisfied: google-auth-oauthlib<0.5,>=0.4.1 in /opt/conda/envs/Python-3.7-main/lib/python3.7/site-packages (from tensorboard<2.3.0,>=2.2.0->tensorflow==2.2.0) (0.4.1)\nRequirement already satisfied: tensorboard-plugin-wit>=1.6.0 in /opt/conda/envs/Python-3.7-main/lib/python3.7/site-packages (from tensorboard<2.3.0,>=2.2.0->tensorflow==2.2.0) (1.7.0)\nRequirement already satisfied: google-auth<2,>=1.6.3 in /opt/conda/envs/Python-3.7-main/lib/python3.7/site-packages (from tensorboard<2.3.0,>=2.2.0->tensorflow==2.2.0) (1.22.0)\nRequirement already satisfied: requests<3,>=2.21.0 in /opt/conda/envs/Python-3.7-main/lib/python3.7/site-packages (from tensorboard<2.3.0,>=2.2.0->tensorflow==2.2.0) (2.24.0)\nRequirement already satisfied: setuptools>=41.0.0 in /opt/conda/envs/Python-3.7-main/lib/python3.7/site-packages (from tensorboard<2.3.0,>=2.2.0->tensorflow==2.2.0) (47.3.1.post20200622)\nRequirement already satisfied: werkzeug>=0.11.15 in /opt/conda/envs/Python-3.7-main/lib/python3.7/site-packages (from tensorboard<2.3.0,>=2.2.0->tensorflow==2.2.0) (1.0.1)\nRequirement already satisfied: requests-oauthlib>=0.7.0 in /opt/conda/envs/Python-3.7-main/lib/python3.7/site-packages (from google-auth-oauthlib<0.5,>=0.4.1->tensorboard<2.3.0,>=2.2.0->tensorflow==2.2.0) (1.3.0)\nRequirement already satisfied: pyasn1-modules>=0.2.1 in /opt/conda/envs/Python-3.7-main/lib/python3.7/site-packages (from google-auth<2,>=1.6.3->tensorboard<2.3.0,>=2.2.0->tensorflow==2.2.0) (0.2.8)\nRequirement already satisfied: aiohttp<4.0.0dev,>=3.6.2; python_version >= \"3.6\" in /opt/conda/envs/Python-3.7-main/lib/python3.7/site-packages (from google-auth<2,>=1.6.3->tensorboard<2.3.0,>=2.2.0->tensorflow==2.2.0) (3.6.2)\nRequirement already satisfied: cachetools<5.0,>=2.0.0 in /opt/conda/envs/Python-3.7-main/lib/python3.7/site-packages (from google-auth<2,>=1.6.3->tensorboard<2.3.0,>=2.2.0->tensorflow==2.2.0) (4.1.1)\nRequirement already satisfied: rsa<5,>=3.1.4; python_version >= \"3.5\" in /opt/conda/envs/Python-3.7-main/lib/python3.7/site-packages (from google-auth<2,>=1.6.3->tensorboard<2.3.0,>=2.2.0->tensorflow==2.2.0) (4.6)\nRequirement already satisfied: urllib3!=1.25.0,!=1.25.1,<1.26,>=1.21.1 in /opt/conda/envs/Python-3.7-main/lib/python3.7/site-packages (from requests<3,>=2.21.0->tensorboard<2.3.0,>=2.2.0->tensorflow==2.2.0) (1.25.9)\nRequirement already satisfied: certifi>=2017.4.17 in /opt/conda/envs/Python-3.7-main/lib/python3.7/site-packages (from requests<3,>=2.21.0->tensorboard<2.3.0,>=2.2.0->tensorflow==2.2.0) (2020.12.5)\nRequirement already satisfied: idna<3,>=2.5 in /opt/conda/envs/Python-3.7-main/lib/python3.7/site-packages (from requests<3,>=2.21.0->tensorboard<2.3.0,>=2.2.0->tensorflow==2.2.0) (2.9)\nRequirement already satisfied: chardet<4,>=3.0.2 in /opt/conda/envs/Python-3.7-main/lib/python3.7/site-packages (from requests<3,>=2.21.0->tensorboard<2.3.0,>=2.2.0->tensorflow==2.2.0) (3.0.4)\nRequirement already satisfied: oauthlib>=3.0.0 in /opt/conda/envs/Python-3.7-main/lib/python3.7/site-packages (from requests-oauthlib>=0.7.0->google-auth-oauthlib<0.5,>=0.4.1->tensorboard<2.3.0,>=2.2.0->tensorflow==2.2.0) (3.1.0)\nRequirement already satisfied: pyasn1<0.5.0,>=0.4.6 in /opt/conda/envs/Python-3.7-main/lib/python3.7/site-packages (from pyasn1-modules>=0.2.1->google-auth<2,>=1.6.3->tensorboard<2.3.0,>=2.2.0->tensorflow==2.2.0) (0.4.8)\nRequirement already satisfied: attrs>=17.3.0 in /opt/conda/envs/Python-3.7-main/lib/python3.7/site-packages (from aiohttp<4.0.0dev,>=3.6.2; python_version >= \"3.6\"->google-auth<2,>=1.6.3->tensorboard<2.3.0,>=2.2.0->tensorflow==2.2.0) (19.3.0)\nRequirement already satisfied: async-timeout<4.0,>=3.0 in /opt/conda/envs/Python-3.7-main/lib/python3.7/site-packages (from aiohttp<4.0.0dev,>=3.6.2; python_version >= \"3.6\"->google-auth<2,>=1.6.3->tensorboard<2.3.0,>=2.2.0->tensorflow==2.2.0) (3.0.1)\nRequirement already satisfied: multidict<5.0,>=4.5 in /opt/conda/envs/Python-3.7-main/lib/python3.7/site-packages (from aiohttp<4.0.0dev,>=3.6.2; python_version >= \"3.6\"->google-auth<2,>=1.6.3->tensorboard<2.3.0,>=2.2.0->tensorflow==2.2.0) (4.7.6)\nRequirement already satisfied: yarl<2.0,>=1.0 in /opt/conda/envs/Python-3.7-main/lib/python3.7/site-packages (from aiohttp<4.0.0dev,>=3.6.2; python_version >= \"3.6\"->google-auth<2,>=1.6.3->tensorboard<2.3.0,>=2.2.0->tensorflow==2.2.0) (1.5.1)\nRequirement already satisfied: typing-extensions>=3.7.4; python_version < \"3.8\" in /opt/conda/envs/Python-3.7-main/lib/python3.7/site-packages (from yarl<2.0,>=1.0->aiohttp<4.0.0dev,>=3.6.2; python_version >= \"3.6\"->google-auth<2,>=1.6.3->tensorboard<2.3.0,>=2.2.0->tensorflow==2.2.0) (3.7.4.2)\nInstalling collected packages: tensorboard, tensorflow-estimator, tensorflow\n  Attempting uninstall: tensorboard\n    Found existing installation: tensorboard 2.1.1\n    Uninstalling tensorboard-2.1.1:\n      Successfully uninstalled tensorboard-2.1.1\n  Attempting uninstall: tensorflow-estimator\n    Found existing installation: tensorflow-estimator 2.1.0\n    Uninstalling tensorflow-estimator-2.1.0:\n      Successfully uninstalled tensorflow-estimator-2.1.0\n  Attempting uninstall: tensorflow\n    Found existing installation: tensorflow 2.2.0rc0\n    Uninstalling tensorflow-2.2.0rc0:\n      Successfully uninstalled tensorflow-2.2.0rc0\nSuccessfully installed tensorboard-2.2.2 tensorflow-2.2.0 tensorflow-estimator-2.2.0\nRequirement already satisfied: pillow in /opt/conda/envs/Python-3.7-main/lib/python3.7/site-packages (7.2.0)\n"
                }
            ],
            "source": "!pip install grpcio==1.24.3\n!pip install tensorflow==2.2.0\n!pip install pillow"
        },
        {
            "cell_type": "markdown",
            "metadata": {},
            "source": "<b>Notice:</b> This notebook has been created with TensorFlow version 2.2, and might not work with other versions. Therefore we check:\n"
        },
        {
            "cell_type": "code",
            "execution_count": 3,
            "metadata": {},
            "outputs": [],
            "source": "import tensorflow as tf\nfrom IPython.display import Markdown, display\n\ndef printmd(string):\n    display(Markdown('# <span style=\"color:red\">'+string+'</span>'))\n\n\nif not tf.__version__ == '2.2.0':\n    printmd('<<<<<!!!!! ERROR !!!! please upgrade to TensorFlow 2.2.0, or restart your Kernel (Kernel->Restart & Clear Output)>>>>>')"
        },
        {
            "cell_type": "markdown",
            "metadata": {},
            "source": "Now, we load in all the packages that we use to create the net including the TensorFlow package:\n"
        },
        {
            "cell_type": "code",
            "execution_count": 4,
            "metadata": {},
            "outputs": [],
            "source": "import tensorflow as tf\nimport numpy as np\n\nfrom PIL import Image\nfrom utils import tile_raster_images\nimport matplotlib.pyplot as plt\n%matplotlib inline"
        },
        {
            "cell_type": "markdown",
            "metadata": {},
            "source": "<hr>\n"
        },
        {
            "cell_type": "markdown",
            "metadata": {},
            "source": "<a id=\"ref2\"></a>\n\n<h3>RBM layers</h3>\n\nAn RBM has two layers. The first layer of the RBM is called the <b>visible</b> (or input layer). Imagine that our toy example, has only vectors with 7 values, so the visible layer must have $V=7$ input nodes. \nThe second layer is the <b>hidden</b> layer, which has $H$ neurons in our case. Each hidden node takes on values of either 0 or 1 (i.e., $h_i = 1$ or $h_i$ = 0), with a probability that is a logistic function of the inputs it receives from the other $V$ visible units, called for example, $p(h_i = 1)$. For our toy sample, we'll use 2 nodes in the hidden layer, so $H = 2$.\n\n<center><img src=\"https://ibm.box.com/shared/static/eu26opvcefgls6vnwuo29uwp0nudmokh.png\" alt=\"RBM Model\" style=\"width: 400px;\"></center>\n"
        },
        {
            "cell_type": "markdown",
            "metadata": {},
            "source": "Each node in the first layer also has a <b>bias</b>. We will denote the bias as $v_{bias}$, and this single value is shared among the $V$ visible units.\n\nThe <b>bias</b> of the second is defined similarly as $h_{bias}$, and this single value among the $H$ hidden units.\n"
        },
        {
            "cell_type": "code",
            "execution_count": 5,
            "metadata": {},
            "outputs": [],
            "source": "v_bias = tf.Variable(tf.zeros([7]), tf.float32)\nh_bias = tf.Variable(tf.zeros([2]), tf.float32)"
        },
        {
            "cell_type": "markdown",
            "metadata": {},
            "source": "We have to define weights among the input layer and hidden layer nodes. In the weight matrix, the number of rows are equal to the input nodes, and the number of columns are equal to the output nodes. We define a tensor $\\mathbf{W}$ of shape = (7,2), where the number of visible neurons = 7, and the number of hidden neurons = 2. \n"
        },
        {
            "cell_type": "code",
            "execution_count": 6,
            "metadata": {},
            "outputs": [],
            "source": "W = tf.constant(np.random.normal(loc=0.0, scale=1.0, size=(7, 2)).astype(np.float32))"
        },
        {
            "cell_type": "markdown",
            "metadata": {},
            "source": "<hr>\n"
        },
        {
            "cell_type": "markdown",
            "metadata": {},
            "source": "<a id=\"ref3\"></a>\n\n<h3>What RBM can do after training?</h3>\nThink of RBM as a model that has been trained based on images of a dataset of many SUV and sedan cars. Also, imagine that the RBM network has only two hidden nodes, where one node encodes the weight and, and the other encodes the size.  \nIn a sense, the different configurations represent different cars, where one is an SUV and the other is Sedan.  In a training process, through many forward and backward passes, the RBM adjust its weights to send a stronger signal to either the SUV node (0, 1) or the sedan node (1, 0) in the hidden layer, given the pixels of images. Now, given an SUV in hidden layer, which distribution of pixels should we expect? RBM can give you 2 things. First, it encodes your images in hidden layer. Second, it gives you the probability of observing a case, given some hidden values.\n\n<h3>The Inference Process</h3>\n\nRBM has two phases:\n\n<ul>\n    <li>Forward Pass</li>  \n    <li>Backward Pass or Reconstruction</li>\n</ul>\n\n<b>Phase 1) Forward pass:</b>  \n\nInput one training sample (one image) $\\mathbf{x}$ through all visible nodes, and pass it to all hidden nodes. Processing happens in each node in the hidden layer. This computation begins by making stochastic decisions about whether to transmit that input or not (i.e. to determine the state of each hidden layer).  First, the probability vector is computed using the input feature vector $\\mathbf{x}$, the weight matrix $\\mathbf{W}$, and the bias term $h_{bias}$, as \n\n$p({h_j}|\\mathbf x)= \\sigma(\\sum_{i=1}^V W_{ij} x_i + h_{bias} )$, \n\nwhere $\\sigma(z) = (1+e^{-z})^{-1}$ is the logistic function.\n\nSo, what does $p({h_j})$ represent? It is the <b>probability distribution</b> of the hidden units. That is, RBM uses inputs $x_i$ to make predictions about hidden node activations. For example, imagine that the hidden node activation values are [0.51 0.84] for the first training item. It tells you that the conditional probability for each hidden neuron for Phase 1 is: \n\n$$p(h_{1} = 1|\\mathbf{v}) = 0.51$$\n$$p(h_{2} = 1|\\mathbf{v}) = 0.84$$\n\nAs a result, for each row in the training set, vector of probabilities is generated.  In TensorFlow, this is referred to as a `tensor` with a shape of (1,2). \n\nWe then turn unit $j$ with probability $p(h_{j}|\\mathbf{v})$, and turn it off with probability $1 - p(h_{j}|\\mathbf{v})$ by generating a uniform random number vector $\\mathbf{\\xi}$, and comparing it to the activation probability as \n\n<center>If $\\xi_j>p(h_{j}|\\mathbf{v})$, then $h_j=1$, else $h_j=0$.</center>\n\nTherefore, the conditional probability of a configuration of $\\mathbf{h}$ given $\\mathbf{v}$ (for a training sample) is:\n\n$$p(\\mathbf{h} \\mid \\mathbf{v}) = \\prod_{j=1}^H p(h_j \\mid \\mathbf{v})$$\n\nwhere $H$ is the number of hidden units.\n"
        },
        {
            "cell_type": "markdown",
            "metadata": {},
            "source": "Before we go further, let's look at a toy example for one case out of all input. Assume that we have a trained RBM, and a very simple input vector, such as [1.0, 0.0, 0.0, 1.0, 0.0, 0.0, 0.0].  \nLet's see what the output of forward pass would look like:\n"
        },
        {
            "cell_type": "code",
            "execution_count": 7,
            "metadata": {},
            "outputs": [
                {
                    "name": "stdout",
                    "output_type": "stream",
                    "text": "Input:  tf.Tensor([[1. 0. 0. 1. 0. 0. 0.]], shape=(1, 7), dtype=float32)\nhb:  tf.Tensor([0.1 0.1], shape=(2,), dtype=float32)\nw:  tf.Tensor(\n[[-0.14624229 -0.8435948 ]\n [ 1.3808779   0.31393722]\n [ 0.24664722  0.43893754]\n [ 1.2252992  -0.4219501 ]\n [-0.8743863   1.6112604 ]\n [ 0.42784992 -0.6182408 ]\n [ 0.47950473  0.03191385]], shape=(7, 2), dtype=float32)\np(h|v):  tf.Tensor([[0.7647782  0.23766121]], shape=(1, 2), dtype=float32)\nh0 states: tf.Tensor([[1. 0.]], shape=(1, 2), dtype=float32)\n"
                }
            ],
            "source": "X = tf.constant([[1.0, 0.0, 0.0, 1.0, 0.0, 0.0, 0.0]], tf.float32)\n\nv_state = X\nprint (\"Input: \", v_state)\n\nh_bias = tf.constant([0.1, 0.1])\nprint (\"hb: \", h_bias)\nprint (\"w: \", W)\n\n# Calculate the probabilities of turning the hidden units on:\nh_prob = tf.nn.sigmoid(tf.matmul(v_state, W) + h_bias)  #probabilities of the hidden units\nprint (\"p(h|v): \", h_prob)\n\n# Draw samples from the distribution:\nh_state = tf.nn.relu(tf.sign(h_prob - tf.random.uniform(tf.shape(h_prob)))) #states\nprint (\"h0 states:\", h_state)"
        },
        {
            "cell_type": "markdown",
            "metadata": {},
            "source": "<b>Phase 2) Backward Pass (Reconstruction):</b>\nThe RBM reconstructs data by making several forward and backward passes between the visible and hidden layers.\n\nSo, in the second phase (i.e. reconstruction phase), the samples from the hidden layer (i.e. $\\mathbf h$) becomes the input in the backward pass. The same weight matrix and visible layer biases are used to passed to the sigmoid function. The reproduced output is a reconstruction which is an approximation of the original input.\n"
        },
        {
            "cell_type": "code",
            "execution_count": 8,
            "metadata": {},
            "outputs": [
                {
                    "name": "stdout",
                    "output_type": "stream",
                    "text": "b:  tf.Tensor([0.1 0.2 0.1 0.1 0.1 0.2 0.1], shape=(7,), dtype=float32)\np(vi\u2223h):  tf.Tensor(\n[[0.48844153 0.82932884 0.5858043  0.790062   0.31553102 0.6520018\n  0.6409535 ]], shape=(1, 7), dtype=float32)\nv probability states:  tf.Tensor([[0. 0. 1. 1. 1. 1. 1.]], shape=(1, 7), dtype=float32)\n"
                }
            ],
            "source": "vb = tf.constant([0.1, 0.2, 0.1, 0.1, 0.1, 0.2, 0.1])\nprint (\"b: \", vb)\nv_prob = tf.nn.sigmoid(tf.matmul(h_state, tf.transpose(W)) + vb)\nprint (\"p(vi\u2223h): \", v_prob)\nv_state = tf.nn.relu(tf.sign(v_prob - tf.random.uniform(tf.shape(v_prob))))\nprint (\"v probability states: \", v_state)"
        },
        {
            "cell_type": "markdown",
            "metadata": {},
            "source": "RBM learns a probability distribution over the input, and then, after being trained, the RBM can generate new samples from the learned probability distribution. As you know, <b>probability distribution</b>, is a mathematical function that provides the probabilities of occurrence of different possible outcomes in an experiment.\n\nThe (conditional) probability distribution over the visible units v is given by\n\n$p(\\mathbf{v} \\mid \\mathbf{h}) = \\prod_{i=1}^V p(v_i \\mid \\mathbf{h}),$\n\nwhere,\n\n$p(v_i \\mid \\mathbf{h}) = \\sigma\\left(\\sum_{j=1}^H W_{ji} h_j + v_{bias} \\right)$\n\nso, given current state of hidden units and weights, what is the probability of generating [1. 0. 0. 1. 0. 0. 0.] in reconstruction phase, based on the above <b>probability distribution</b> function?\n"
        },
        {
            "cell_type": "code",
            "execution_count": 9,
            "metadata": {},
            "outputs": [
                {
                    "name": "stdout",
                    "output_type": "stream",
                    "text": "input X: [[1. 0. 0. 1. 0. 0. 0.]]\nprobablity vector: [0.48844153 0.82932884 0.5858043  0.790062   0.31553102 0.6520018\n 0.6409535 ]\nprobability of generating X:  0.0023330336\n"
                }
            ],
            "source": "inp = X\nprint(\"input X:\" , inp.numpy())\n\nprint(\"probablity vector:\" , v_prob[0].numpy())\nv_probability = 1\n\nfor elm, p in zip(inp[0],v_prob[0]) :\n    if elm ==1:\n        v_probability *= p\n    else:\n        v_probability *= (1-p)\n\nprint(\"probability of generating X: \" , v_probability.numpy())"
        },
        {
            "cell_type": "markdown",
            "metadata": {},
            "source": "How similar are vectors $\\mathbf{x}$ and $\\mathbf{v}$? Of course, the reconstructed values most likely will not look anything like the input vector, because our network has not been trained yet. Our objective is to train the model in such a way that the input vector and reconstructed vector to be same. Therefore, based on how different the input values look to the ones that we just reconstructed, the weights are adjusted. \n"
        },
        {
            "cell_type": "markdown",
            "metadata": {},
            "source": "<hr>\n"
        },
        {
            "cell_type": "markdown",
            "metadata": {},
            "source": "<h2>MNIST</h2>\n"
        },
        {
            "cell_type": "markdown",
            "metadata": {},
            "source": "We will be using the MNIST dataset to practice the usage of RBMs. The following cell loads the MNIST dataset.\n"
        },
        {
            "cell_type": "code",
            "execution_count": 10,
            "metadata": {},
            "outputs": [],
            "source": "#loading training and test data\nmnist = tf.keras.datasets.mnist\n(trX, trY), (teX, teY) = mnist.load_data()\n\n# showing an example of the Flatten class and operation\nfrom tensorflow.keras.layers import Flatten\nflatten = Flatten(dtype='float32')\ntrX = flatten(trX/255.0)\ntrY = flatten(trY/255.0)"
        },
        {
            "cell_type": "markdown",
            "metadata": {},
            "source": "Lets look at the dimension of the images.\n"
        },
        {
            "cell_type": "markdown",
            "metadata": {},
            "source": "MNIST images have 784 pixels, so the visible layer must have 784 input nodes.  For our case, we'll use 50 nodes in the hidden layer, so i = 50.\n"
        },
        {
            "cell_type": "code",
            "execution_count": 11,
            "metadata": {
                "jupyter": {
                    "outputs_hidden": true
                }
            },
            "outputs": [],
            "source": "vb = tf.Variable(tf.zeros([784]), tf.float32)\nhb = tf.Variable(tf.zeros([50]), tf.float32)"
        },
        {
            "cell_type": "markdown",
            "metadata": {},
            "source": "Let $\\mathbf W$ be the Tensor of 784x50 (784 - number of visible neurons, 50 - number of hidden neurons) that represents weights between the neurons. \n"
        },
        {
            "cell_type": "code",
            "execution_count": 12,
            "metadata": {
                "jupyter": {
                    "outputs_hidden": true
                }
            },
            "outputs": [],
            "source": "W = tf.Variable(tf.zeros([784,50]), tf.float32)"
        },
        {
            "cell_type": "markdown",
            "metadata": {},
            "source": "Lets define the visible layer:\n"
        },
        {
            "cell_type": "code",
            "execution_count": 13,
            "metadata": {},
            "outputs": [
                {
                    "data": {
                        "text/plain": "<tf.Tensor: shape=(1, 50), dtype=float32, numpy=\narray([[0., 0., 0., 0., 0., 0., 0., 0., 0., 0., 0., 0., 0., 0., 0., 0.,\n        0., 0., 0., 0., 0., 0., 0., 0., 0., 0., 0., 0., 0., 0., 0., 0.,\n        0., 0., 0., 0., 0., 0., 0., 0., 0., 0., 0., 0., 0., 0., 0., 0.,\n        0., 0.]], dtype=float32)>"
                    },
                    "execution_count": 13,
                    "metadata": {},
                    "output_type": "execute_result"
                }
            ],
            "source": "v0_state = tf.Variable(tf.zeros([784]), tf.float32)\n\n#testing to see if the matrix product works\ntf.matmul( [v0_state], W)"
        },
        {
            "cell_type": "markdown",
            "metadata": {},
            "source": "Now, we can define hidden layer:\n"
        },
        {
            "cell_type": "code",
            "execution_count": 14,
            "metadata": {},
            "outputs": [
                {
                    "name": "stdout",
                    "output_type": "stream",
                    "text": "h0_state shape:  tf.Tensor([ 1 50], shape=(2,), dtype=int32)\nfirst 15 hidden states:  tf.Tensor([0. 0. 0. 0. 1. 1. 0. 0. 1. 0. 1. 0. 1. 1. 1.], shape=(15,), dtype=float32)\n"
                }
            ],
            "source": "#computing the hidden nodes probability vector and checking shape\nh0_prob = tf.nn.sigmoid(tf.matmul([v0_state], W) + hb)  #probabilities of the hidden units\nprint(\"h0_state shape: \" , tf.shape(h0_prob))\n\n#defining a function to return only the generated hidden states \ndef hidden_layer(v0_state, W, hb):\n    h0_prob = tf.nn.sigmoid(tf.matmul([v0_state], W) + hb)  #probabilities of the hidden units\n    h0_state = tf.nn.relu(tf.sign(h0_prob - tf.random.uniform(tf.shape(h0_prob)))) #sample_h_given_X\n    return h0_state\n\n\nh0_state = hidden_layer(v0_state, W, hb)\nprint(\"first 15 hidden states: \", h0_state[0][0:15])"
        },
        {
            "cell_type": "markdown",
            "metadata": {},
            "source": "Now, we define reconstruction part:\n"
        },
        {
            "cell_type": "code",
            "execution_count": 15,
            "metadata": {},
            "outputs": [
                {
                    "name": "stdout",
                    "output_type": "stream",
                    "text": "hidden state shape:  (1, 50)\nv0 state shape:   (784,)\nv1 state shape:   (784,)\n"
                }
            ],
            "source": "def reconstructed_output(h0_state, W, vb):\n    v1_prob = tf.nn.sigmoid(tf.matmul(h0_state, tf.transpose(W)) + vb) \n    v1_state = tf.nn.relu(tf.sign(v1_prob - tf.random.uniform(tf.shape(v1_prob)))) #sample_v_given_h\n    return v1_state[0]\n\nv1_state = reconstructed_output(h0_state, W, vb)\nprint(\"hidden state shape: \", h0_state.shape)\nprint(\"v0 state shape:  \", v0_state.shape)\nprint(\"v1 state shape:  \", v1_state.shape)"
        },
        {
            "cell_type": "markdown",
            "metadata": {},
            "source": "<h3>What is the objective function?</h3>\n\n<b>Goal</b>: Maximize the likelihood of our data being drawn from that distribution\n\n<b>Calculate error:</b>  \nIn each epoch, we compute the \"error\" as a sum of the squared difference between step 1 and step n,\ne.g the error shows the difference between the data and its reconstruction.\n\n<b>Note:</b> tf.reduce_mean computes the mean of elements across dimensions of a tensor.\n"
        },
        {
            "cell_type": "code",
            "execution_count": 16,
            "metadata": {},
            "outputs": [
                {
                    "name": "stdout",
                    "output_type": "stream",
                    "text": "error 0.49107143\n"
                }
            ],
            "source": "def error(v0_state, v1_state):\n    return tf.reduce_mean(tf.square(v0_state - v1_state))\n\nerr = tf.reduce_mean(tf.square(v0_state - v1_state))\nprint(\"error\" , err.numpy())"
        },
        {
            "cell_type": "markdown",
            "metadata": {},
            "source": "<a id=\"ref4\"></a>\n\n<h3>Training the Model</h3>\n<b>Warning...</b> The following part is math-heavy, but you can skip it if you just want to run the cells in the next section.\n\nAs mentioned, we want to give a high probability to the input data we train on. So, in order to train an RBM, we have to maximize the product of probabilities assigned to all rows $\\mathbf{v}$ (images) in the training set $\\mathbf{V}$ (a matrix, where each row of it is treated as a visible vector $\\mathbf{v}$)\n\n$$\\arg\\max_W\\prod_{\\mathbf{v}\\in\\mathbf{V}_T}p(\\mathbf{v}),$$\n\nwhich is equivalent to maximizing the expectation of the log probability, given as\n\n$$\\arg\\max_W\\left[ \\mathbb{E} \\left(\\prod_{\\mathbf v\\in \\mathbf V}\\text{log} \\left(p(\\mathbf v)\\right) \\right) \\right].$$\n\nSo, we have to update the weights $W_{ij}$  to increase $p(\\mathbf{v})$ for all $\\mathbf{v}$ in our training data during training. So we have to calculate the derivative:\n\n$$\\frac{\\partial \\log p(\\mathbf v)}{\\partial W_{ij}}$$\n\nThis cannot be easily done by typical <b>gradient descent (SGD)</b>, so we can use another approach, which has 2 steps:\n\n<ol>\n    <li>Gibbs Sampling</li>\n    <li>Contrastive Divergence</li>\n</ol>    \n    \n<h3>Gibbs Sampling</h3>   \n\n<h4>Gibbs Sampling Step 1</h4> \nGiven an input vector $\\mathbf{v}$, we are using $p(\\mathbf{h}|\\mathbf{v})$ to predict the hidden values $\\mathbf{h}$. \n  $$p({h_j}|\\mathbf v)= \\sigma\\left(\\sum_{i=1}^V W_{ij} v_i + h_{bias} \\right)$$\nThe samples are generated from this distribution by generating the uniform random variate vector $\\mathbf{\\xi} \\sim U[0,1]$ of length $H$ and comparing to the computed probabilities as\n\n<center>If $\\xi_j>p(h_{j}|\\mathbf{v})$, then $h_j=1$, else $h_j=0$.</center>\n\n<h4>Gibbs Sampling Step 2</h4> \nThen, knowing the hidden values, we use $p(\\mathbf v| \\mathbf h)$ for reconstructing of new input values v. \n\n   $$p({v_i}|\\mathbf h)= \\sigma\\left(\\sum_{j=1}^H W^{T}_{ij} h_j + v_{bias} \\right)$$\n\nThe samples are generated from this distribution by generating a uniform random variate vector $\\mathbf{\\xi} \\sim U[0,1]$ of length $V$ and comparing to the computed probabilities as\n\n<center>If $\\xi_i>p(v_{i}|\\mathbf{h})$, then $v_i=1$, else $v_i=0$.</center>\n\nLet vectors $\\mathbf v_k$ and $\\mathbf h_k$ be for the $k$th iteration.  In general, the $kth$ state is generrated as: \n\n<b>Iteration</b> $k$: \n\n$$\\mathbf v_{k-1} \\Rightarrow p(\\mathbf h_{k-1}|\\mathbf v_{k-1})\\Rightarrow \\mathbf h_{k-1}\\Rightarrow p(\\mathbf v_{k}|\\mathbf h_{k-1})\\Rightarrow \\mathbf v_k$$       \n\n<h3>Contrastive Divergence (CD-k)</h3>\nThe update of the weight matrix is done during the Contrastive Divergence step. \n\nVectors v0 and vk are used to calculate the activation probabilities for hidden values h0 and hk. The difference between the outer products of those probabilities with input vectors v0 and vk results in the update matrix:\n\n$\\Delta \\mathbf W_k =\\mathbf v_k \\otimes \\mathbf h_k - \\mathbf v_{k-1} \\otimes \\mathbf h_{k-1}$ \n\nContrastive Divergence is actually matrix of values that is computed and used to adjust values of the $\\mathbf W$ matrix. Changing $\\mathbf W$ incrementally leads to training of the  $\\mathbf W$ values. Then, on each step (epoch), $\\mathbf W$ is updated using the following:\n\n$\\mathbf W_k = \\mathbf W_{k-1} + \\alpha * \\Delta \\mathbf W_k$ \n\nReconstruction steps:\n\n<ul>\n    <li> Get one data point from data set, like <i>x</i>, and pass it through the following steps:</li>\n    \n<b>Iteration</b> $k=1$: \n    \nSampling (starting with input image)\n    $$\\mathbf x = \\mathbf v_0 \\Rightarrow p(\\mathbf h_0|\\mathbf v_0)\\Rightarrow \\mathbf h_0 \\Rightarrow p(\\mathbf v_1|\\mathbf h_0)\\Rightarrow \\mathbf v_1$$   \n    followed by the CD-k step\n$$\\Delta \\mathbf W_1 =\\mathbf v_1 \\otimes \\mathbf h_1 - \\mathbf v_{0} \\otimes \\mathbf h_{0}$$     \n$$\\mathbf W_1 = \\mathbf W_{0} + \\alpha * \\Delta \\mathbf W_1$$ \n \n<li> $\\mathbf v_1$ is the reconstruction of $\\mathbf x$ sent to the next iteration).</li>\n\n<b>Iteration</b> $k=2$: \n\nSampling (starting with $\\mathbf v_1$)\n\n$$\\mathbf v_1 \\Rightarrow p(\\mathbf h_1|\\mathbf v_1)\\Rightarrow \\mathbf h_1\\Rightarrow p(\\mathbf v_2|\\mathbf h_1)\\Rightarrow \\mathbf v_2$$   \n\nfollowed by the CD-k step\n$$\\Delta \\mathbf W_2 =\\mathbf v_2 \\otimes \\mathbf h_2 - \\mathbf v_{1} \\otimes \\mathbf h_{1}$$  \n$$\\mathbf W_2 = \\mathbf W_{1} + \\alpha * \\Delta \\mathbf W_2$$ \n\n<li> $\\mathbf v_2$ is the reconstruction of $\\mathbf v_1$ sent to the next iteration).</li>    \n      \n<b>Iteration</b> $k=K$:\n    \nSampling (starting with $\\mathbf v_{K-1}$)\n\n$$\\mathbf v_{K-1} \\Rightarrow p(\\mathbf h_{K-1}|\\mathbf v_{K-1})\\Rightarrow \\mathbf h_{K-1}\\Rightarrow p(\\mathbf v_K|\\mathbf h_{K-1})\\Rightarrow \\mathbf v_K$$   \n\nfollowed by the CD-k step\n$$\\Delta \\mathbf W_K =\\mathbf v_K \\otimes \\mathbf h_K - \\mathbf v_{K-1} \\otimes \\mathbf h_{K-1}$$  \n$$\\mathbf W_K = \\mathbf W_{K-1} + \\alpha * \\Delta \\mathbf W_K$$ \n\n<b>What is $\\alpha$?</b>  \nHere, alpha is some small step size, and is also known as the \"learning rate\".\n"
        },
        {
            "cell_type": "markdown",
            "metadata": {},
            "source": "$K$ is adjustable, and good performance can be achieved with $K=1$, so that we just take one set of sampling steps per image.\n"
        },
        {
            "cell_type": "code",
            "execution_count": 17,
            "metadata": {},
            "outputs": [],
            "source": "h1_prob = tf.nn.sigmoid(tf.matmul([v1_state], W) + hb)\nh1_state = tf.nn.relu(tf.sign(h1_prob - tf.random.uniform(tf.shape(h1_prob)))) #sample_h_given_X"
        },
        {
            "cell_type": "markdown",
            "metadata": {},
            "source": "Lets look at the error of the first run:\n"
        },
        {
            "cell_type": "code",
            "execution_count": 18,
            "metadata": {},
            "outputs": [
                {
                    "name": "stdout",
                    "output_type": "stream",
                    "text": "error:  tf.Tensor(0.49107143, shape=(), dtype=float32)\n"
                }
            ],
            "source": "print(\"error: \", error(v0_state, v1_state))"
        },
        {
            "cell_type": "code",
            "execution_count": null,
            "metadata": {},
            "outputs": [
                {
                    "name": "stdout",
                    "output_type": "stream",
                    "text": "Epoch: 0 batch #: 1  of 300 sample #: 199 reconstruction error: 0.143760\nEpoch: 0 batch #: 2  of 300 sample #: 199 reconstruction error: 0.198337\nEpoch: 0 batch #: 3  of 300 sample #: 199 reconstruction error: 0.108200\nEpoch: 0 batch #: 4  of 300 sample #: 199 reconstruction error: 0.130008\nEpoch: 0 batch #: 5  of 300 sample #: 199 reconstruction error: 0.100888\nEpoch: 0 batch #: 6  of 300 sample #: 199 reconstruction error: 0.166581\nEpoch: 0 batch #: 7  of 300 sample #: 199 reconstruction error: 0.101154\nEpoch: 0 batch #: 8  of 300 sample #: 199 reconstruction error: 0.120004\nEpoch: 0 batch #: 9  of 300 sample #: 199 reconstruction error: 0.099862\nEpoch: 0 batch #: 10  of 300 sample #: 199 reconstruction error: 0.178772\nEpoch: 0 batch #: 11  of 300 sample #: 199 reconstruction error: 0.097538\nEpoch: 0 batch #: 12  of 300 sample #: 199 reconstruction error: 0.136065\nEpoch: 0 batch #: 13  of 300 sample #: 199 reconstruction error: 0.069100\nEpoch: 0 batch #: 14  of 300 sample #: 199 reconstruction error: 0.113787\nEpoch: 0 batch #: 15  of 300 sample #: 199 reconstruction error: 0.097360\nEpoch: 0 batch #: 16  of 300 sample #: 199 reconstruction error: 0.102971\nEpoch: 0 batch #: 17  of 300 sample #: 199 reconstruction error: 0.068785\nEpoch: 0 batch #: 18  of 300 sample #: 199 reconstruction error: 0.128648\nEpoch: 0 batch #: 19  of 300 sample #: 199 reconstruction error: 0.127386\nEpoch: 0 batch #: 20  of 300 sample #: 199 reconstruction error: 0.090712\nEpoch: 0 batch #: 21  of 300 sample #: 199 reconstruction error: 0.102559\nEpoch: 0 batch #: 22  of 300 sample #: 199 reconstruction error: 0.089444\nEpoch: 0 batch #: 23  of 300 sample #: 199 reconstruction error: 0.102546\nEpoch: 0 batch #: 24  of 300 sample #: 199 reconstruction error: 0.123554\nEpoch: 0 batch #: 25  of 300 sample #: 199 reconstruction error: 0.105527\nEpoch: 0 batch #: 26  of 300 sample #: 199 reconstruction error: 0.100152\nEpoch: 0 batch #: 27  of 300 sample #: 199 reconstruction error: 0.107928\nEpoch: 0 batch #: 28  of 300 sample #: 199 reconstruction error: 0.081309\nEpoch: 0 batch #: 29  of 300 sample #: 199 reconstruction error: 0.098145\nEpoch: 0 batch #: 30  of 300 sample #: 199 reconstruction error: 0.086102\nEpoch: 0 batch #: 31  of 300 sample #: 199 reconstruction error: 0.098111\nEpoch: 0 batch #: 32  of 300 sample #: 199 reconstruction error: 0.128077\nEpoch: 0 batch #: 33  of 300 sample #: 199 reconstruction error: 0.047993\nEpoch: 0 batch #: 34  of 300 sample #: 199 reconstruction error: 0.074020\nEpoch: 0 batch #: 35  of 300 sample #: 199 reconstruction error: 0.079697\nEpoch: 0 batch #: 36  of 300 sample #: 199 reconstruction error: 0.086259\nEpoch: 0 batch #: 37  of 300 sample #: 199 reconstruction error: 0.051319\nEpoch: 0 batch #: 38  of 300 sample #: 199 reconstruction error: 0.079377\nEpoch: 0 batch #: 39  of 300 sample #: 199 reconstruction error: 0.098880\nEpoch: 0 batch #: 40  of 300 sample #: 199 reconstruction error: 0.105481\nEpoch: 0 batch #: 41  of 300 sample #: 199 reconstruction error: 0.083950\nEpoch: 0 batch #: 42  of 300 sample #: 199 reconstruction error: 0.067290\nEpoch: 0 batch #: 43  of 300 sample #: 199 reconstruction error: 0.115335\nEpoch: 0 batch #: 44  of 300 sample #: 199 reconstruction error: 0.072546\nEpoch: 0 batch #: 45  of 300 sample #: 199 reconstruction error: 0.051648\nEpoch: 0 batch #: 46  of 300 sample #: 199 reconstruction error: 0.029490\nEpoch: 0 batch #: 47  of 300 sample #: 199 reconstruction error: 0.041086\nEpoch: 0 batch #: 48  of 300 sample #: 199 reconstruction error: 0.042557\nEpoch: 0 batch #: 49  of 300 sample #: 199 reconstruction error: 0.133366\nEpoch: 0 batch #: 50  of 300 sample #: 199 reconstruction error: 0.071241\nEpoch: 0 batch #: 51  of 300 sample #: 199 reconstruction error: 0.059079\nEpoch: 0 batch #: 52  of 300 sample #: 199 reconstruction error: 0.032604\nEpoch: 0 batch #: 53  of 300 sample #: 199 reconstruction error: 0.109008\nEpoch: 0 batch #: 54  of 300 sample #: 199 reconstruction error: 0.065565\nEpoch: 0 batch #: 55  of 300 sample #: 199 reconstruction error: 0.113971\nEpoch: 0 batch #: 56  of 300 sample #: 199 reconstruction error: 0.059027\nEpoch: 0 batch #: 57  of 300 sample #: 199 reconstruction error: 0.055567\nEpoch: 0 batch #: 58  of 300 sample #: 199 reconstruction error: 0.066409\nEpoch: 0 batch #: 59  of 300 sample #: 199 reconstruction error: 0.054405\nEpoch: 0 batch #: 60  of 300 sample #: 199 reconstruction error: 0.088122\nEpoch: 0 batch #: 61  of 300 sample #: 199 reconstruction error: 0.075070\nEpoch: 0 batch #: 62  of 300 sample #: 199 reconstruction error: 0.071500\nEpoch: 0 batch #: 63  of 300 sample #: 199 reconstruction error: 0.054476\nEpoch: 0 batch #: 64  of 300 sample #: 199 reconstruction error: 0.094631\nEpoch: 0 batch #: 65  of 300 sample #: 199 reconstruction error: 0.095494\nEpoch: 0 batch #: 66  of 300 sample #: 199 reconstruction error: 0.067398\nEpoch: 0 batch #: 67  of 300 sample #: 199 reconstruction error: 0.052521\nEpoch: 0 batch #: 68  of 300 sample #: 199 reconstruction error: 0.056781\nEpoch: 0 batch #: 69  of 300 sample #: 199 reconstruction error: 0.086319\nEpoch: 0 batch #: 70  of 300 sample #: 199 reconstruction error: 0.092417\nEpoch: 0 batch #: 71  of 300 sample #: 199 reconstruction error: 0.096078\nEpoch: 0 batch #: 72  of 300 sample #: 199 reconstruction error: 0.068433\nEpoch: 0 batch #: 73  of 300 sample #: 199 reconstruction error: 0.088519\nEpoch: 0 batch #: 74  of 300 sample #: 199 reconstruction error: 0.074351\nEpoch: 0 batch #: 75  of 300 sample #: 199 reconstruction error: 0.047382\nEpoch: 0 batch #: 76  of 300 sample #: 199 reconstruction error: 0.080917\nEpoch: 0 batch #: 77  of 300 sample #: 199 reconstruction error: 0.093801\nEpoch: 0 batch #: 78  of 300 sample #: 199 reconstruction error: 0.092545\nEpoch: 0 batch #: 79  of 300 sample #: 199 reconstruction error: 0.118366\nEpoch: 0 batch #: 80  of 300 sample #: 199 reconstruction error: 0.028655\nEpoch: 0 batch #: 81  of 300 sample #: 199 reconstruction error: 0.047403\nEpoch: 0 batch #: 82  of 300 sample #: 199 reconstruction error: 0.046523\nEpoch: 0 batch #: 83  of 300 sample #: 199 reconstruction error: 0.072498\nEpoch: 0 batch #: 84  of 300 sample #: 199 reconstruction error: 0.093729\nEpoch: 0 batch #: 85  of 300 sample #: 199 reconstruction error: 0.048834\nEpoch: 0 batch #: 86  of 300 sample #: 199 reconstruction error: 0.070633\nEpoch: 0 batch #: 87  of 300 sample #: 199 reconstruction error: 0.081248\nEpoch: 0 batch #: 88  of 300 sample #: 199 reconstruction error: 0.028017\nEpoch: 0 batch #: 89  of 300 sample #: 199 reconstruction error: 0.064525\nEpoch: 0 batch #: 90  of 300 sample #: 199 reconstruction error: 0.070308\nEpoch: 0 batch #: 91  of 300 sample #: 199 reconstruction error: 0.060726\nEpoch: 0 batch #: 92  of 300 sample #: 199 reconstruction error: 0.065193\nEpoch: 0 batch #: 93  of 300 sample #: 199 reconstruction error: 0.104158\nEpoch: 0 batch #: 94  of 300 sample #: 199 reconstruction error: 0.114835\nEpoch: 0 batch #: 95  of 300 sample #: 199 reconstruction error: 0.078431\nEpoch: 0 batch #: 96  of 300 sample #: 199 reconstruction error: 0.056281\nEpoch: 0 batch #: 97  of 300 sample #: 199 reconstruction error: 0.110912\nEpoch: 0 batch #: 98  of 300 sample #: 199 reconstruction error: 0.079890\nEpoch: 0 batch #: 99  of 300 sample #: 199 reconstruction error: 0.063493\nEpoch: 0 batch #: 100  of 300 sample #: 199 reconstruction error: 0.097418\nEpoch: 0 batch #: 101  of 300 sample #: 199 reconstruction error: 0.073897\nEpoch: 0 batch #: 102  of 300 sample #: 199 reconstruction error: 0.069777\nEpoch: 0 batch #: 103  of 300 sample #: 199 reconstruction error: 0.084967\nEpoch: 0 batch #: 104  of 300 sample #: 199 reconstruction error: 0.081262\nEpoch: 0 batch #: 105  of 300 sample #: 199 reconstruction error: 0.058295\nEpoch: 0 batch #: 106  of 300 sample #: 199 reconstruction error: 0.119727\nEpoch: 0 batch #: 107  of 300 sample #: 199 reconstruction error: 0.120876\nEpoch: 0 batch #: 108  of 300 sample #: 199 reconstruction error: 0.063174\nEpoch: 0 batch #: 109  of 300 sample #: 199 reconstruction error: 0.116102\nEpoch: 0 batch #: 110  of 300 sample #: 199 reconstruction error: 0.058751\nEpoch: 0 batch #: 111  of 300 sample #: 199 reconstruction error: 0.092514\nEpoch: 0 batch #: 112  of 300 sample #: 199 reconstruction error: 0.040481\nEpoch: 0 batch #: 113  of 300 sample #: 199 reconstruction error: 0.078076\nEpoch: 0 batch #: 114  of 300 sample #: 199 reconstruction error: 0.075860\nEpoch: 0 batch #: 115  of 300 sample #: 199 reconstruction error: 0.056955\nEpoch: 0 batch #: 116  of 300 sample #: 199 reconstruction error: 0.052326\nEpoch: 0 batch #: 117  of 300 sample #: 199 reconstruction error: 0.041662\nEpoch: 0 batch #: 118  of 300 sample #: 199 reconstruction error: 0.057794\nEpoch: 0 batch #: 119  of 300 sample #: 199 reconstruction error: 0.118056\nEpoch: 0 batch #: 120  of 300 sample #: 199 reconstruction error: 0.067593\nEpoch: 0 batch #: 121  of 300 sample #: 199 reconstruction error: 0.060535\nEpoch: 0 batch #: 122  of 300 sample #: 199 reconstruction error: 0.079579\nEpoch: 0 batch #: 123  of 300 sample #: 199 reconstruction error: 0.063573\nEpoch: 0 batch #: 124  of 300 sample #: 199 reconstruction error: 0.071868\nEpoch: 0 batch #: 125  of 300 sample #: 199 reconstruction error: 0.052594\nEpoch: 0 batch #: 126  of 300 sample #: 199 reconstruction error: 0.091905\nEpoch: 0 batch #: 127  of 300 sample #: 199 reconstruction error: 0.082172\nEpoch: 0 batch #: 128  of 300 sample #: 199 reconstruction error: 0.078586\nEpoch: 0 batch #: 129  of 300 sample #: 199 reconstruction error: 0.051115\nEpoch: 0 batch #: 130  of 300 sample #: 199 reconstruction error: 0.077010\nEpoch: 0 batch #: 131  of 300 sample #: 199 reconstruction error: 0.057735\nEpoch: 0 batch #: 132  of 300 sample #: 199 reconstruction error: 0.045275\nEpoch: 0 batch #: 133  of 300 sample #: 199 reconstruction error: 0.056405\nEpoch: 0 batch #: 134  of 300 sample #: 199 reconstruction error: 0.094842\nEpoch: 0 batch #: 135  of 300 sample #: 199 reconstruction error: 0.099195\nEpoch: 0 batch #: 136  of 300 sample #: 199 reconstruction error: 0.119461\nEpoch: 0 batch #: 137  of 300 sample #: 199 reconstruction error: 0.062813\nEpoch: 0 batch #: 138  of 300 sample #: 199 reconstruction error: 0.072572\nEpoch: 0 batch #: 139  of 300 sample #: 199 reconstruction error: 0.097245\nEpoch: 0 batch #: 140  of 300 sample #: 199 reconstruction error: 0.082354\nEpoch: 0 batch #: 141  of 300 sample #: 199 reconstruction error: 0.092654\nEpoch: 0 batch #: 142  of 300 sample #: 199 reconstruction error: 0.062822\nEpoch: 0 batch #: 143  of 300 sample #: 199 reconstruction error: 0.052980\nEpoch: 0 batch #: 144  of 300 sample #: 199 reconstruction error: 0.063146\nEpoch: 0 batch #: 145  of 300 sample #: 199 reconstruction error: 0.095062\nEpoch: 0 batch #: 146  of 300 sample #: 199 reconstruction error: 0.106001\nEpoch: 0 batch #: 147  of 300 sample #: 199 reconstruction error: 0.073216\nEpoch: 0 batch #: 148  of 300 sample #: 199 reconstruction error: 0.086074\nEpoch: 0 batch #: 149  of 300 sample #: 199 reconstruction error: 0.045208\nEpoch: 0 batch #: 150  of 300 sample #: 199 reconstruction error: 0.055269\nEpoch: 0 batch #: 151  of 300 sample #: 199 reconstruction error: 0.102300\nEpoch: 0 batch #: 152  of 300 sample #: 199 reconstruction error: 0.084900\nEpoch: 0 batch #: 153  of 300 sample #: 199 reconstruction error: 0.049538\nEpoch: 0 batch #: 154  of 300 sample #: 199 reconstruction error: 0.069295\nEpoch: 0 batch #: 155  of 300 sample #: 199 reconstruction error: 0.052144\nEpoch: 0 batch #: 156  of 300 sample #: 199 reconstruction error: 0.062006\nEpoch: 0 batch #: 157  of 300 sample #: 199 reconstruction error: 0.089728\nEpoch: 0 batch #: 158  of 300 sample #: 199 reconstruction error: 0.066488\nEpoch: 0 batch #: 159  of 300 sample #: 199 reconstruction error: 0.058276\nEpoch: 0 batch #: 160  of 300 sample #: 199 reconstruction error: 0.066521\nEpoch: 0 batch #: 161  of 300 sample #: 199 reconstruction error: 0.068979\nEpoch: 0 batch #: 162  of 300 sample #: 199 reconstruction error: 0.097942\nEpoch: 0 batch #: 163  of 300 sample #: 199 reconstruction error: 0.032854\nEpoch: 0 batch #: 164  of 300 sample #: 199 reconstruction error: 0.074744\nEpoch: 0 batch #: 165  of 300 sample #: 199 reconstruction error: 0.072201\nEpoch: 0 batch #: 166  of 300 sample #: 199 reconstruction error: 0.065773\nEpoch: 0 batch #: 167  of 300 sample #: 199 reconstruction error: 0.079601\nEpoch: 0 batch #: 168  of 300 sample #: 199 reconstruction error: 0.054889\nEpoch: 0 batch #: 169  of 300 sample #: 199 reconstruction error: 0.035750\nEpoch: 0 batch #: 170  of 300 sample #: 199 reconstruction error: 0.054597\nEpoch: 0 batch #: 171  of 300 sample #: 199 reconstruction error: 0.025969\nEpoch: 0 batch #: 172  of 300 sample #: 199 reconstruction error: 0.052918\nEpoch: 0 batch #: 173  of 300 sample #: 199 reconstruction error: 0.078161\nEpoch: 0 batch #: 174  of 300 sample #: 199 reconstruction error: 0.112615\nEpoch: 0 batch #: 175  of 300 sample #: 199 reconstruction error: 0.060288\nEpoch: 0 batch #: 176  of 300 sample #: 199 reconstruction error: 0.035682\nEpoch: 0 batch #: 177  of 300 sample #: 199 reconstruction error: 0.040374\nEpoch: 0 batch #: 178  of 300 sample #: 199 reconstruction error: 0.121106\nEpoch: 0 batch #: 179  of 300 sample #: 199 reconstruction error: 0.066026\nEpoch: 0 batch #: 180  of 300 sample #: 199 reconstruction error: 0.087238\nEpoch: 0 batch #: 181  of 300 sample #: 199 reconstruction error: 0.098869\nEpoch: 0 batch #: 182  of 300 sample #: 199 reconstruction error: 0.078222\nEpoch: 0 batch #: 183  of 300 sample #: 199 reconstruction error: 0.102761\nEpoch: 0 batch #: 184  of 300 sample #: 199 reconstruction error: 0.051838\nEpoch: 0 batch #: 185  of 300 sample #: 199 reconstruction error: 0.073924\nEpoch: 0 batch #: 186  of 300 sample #: 199 reconstruction error: 0.095721\nEpoch: 0 batch #: 187  of 300 sample #: 199 reconstruction error: 0.058669\nEpoch: 0 batch #: 188  of 300 sample #: 199 reconstruction error: 0.108644\nEpoch: 0 batch #: 189  of 300 sample #: 199 reconstruction error: 0.093103\nEpoch: 0 batch #: 190  of 300 sample #: 199 reconstruction error: 0.060722\nEpoch: 0 batch #: 191  of 300 sample #: 199 reconstruction error: 0.102081\nEpoch: 0 batch #: 192  of 300 sample #: 199 reconstruction error: 0.114612\nEpoch: 0 batch #: 193  of 300 sample #: 199 reconstruction error: 0.075573\nEpoch: 0 batch #: 194  of 300 sample #: 199 reconstruction error: 0.094660\nEpoch: 0 batch #: 195  of 300 sample #: 199 reconstruction error: 0.048709\nEpoch: 0 batch #: 196  of 300 sample #: 199 reconstruction error: 0.055431\nEpoch: 0 batch #: 197  of 300 sample #: 199 reconstruction error: 0.049288\nEpoch: 0 batch #: 198  of 300 sample #: 199 reconstruction error: 0.093825\nEpoch: 0 batch #: 199  of 300 sample #: 199 reconstruction error: 0.072351\nEpoch: 0 batch #: 200  of 300 sample #: 199 reconstruction error: 0.102041\nEpoch: 0 batch #: 201  of 300 sample #: 199 reconstruction error: 0.080453\nEpoch: 0 batch #: 202  of 300 sample #: 199 reconstruction error: 0.030614\nEpoch: 0 batch #: 203  of 300 sample #: 199 reconstruction error: 0.078402\nEpoch: 0 batch #: 204  of 300 sample #: 199 reconstruction error: 0.059153\nEpoch: 0 batch #: 205  of 300 sample #: 199 reconstruction error: 0.025832\nEpoch: 0 batch #: 206  of 300 sample #: 199 reconstruction error: 0.074367\nEpoch: 0 batch #: 207  of 300 sample #: 199 reconstruction error: 0.075345\nEpoch: 0 batch #: 208  of 300 sample #: 199 reconstruction error: 0.057661\nEpoch: 0 batch #: 209  of 300 sample #: 199 reconstruction error: 0.025364\nEpoch: 0 batch #: 210  of 300 sample #: 199 reconstruction error: 0.107365\nEpoch: 0 batch #: 211  of 300 sample #: 199 reconstruction error: 0.094940\nEpoch: 0 batch #: 212  of 300 sample #: 199 reconstruction error: 0.090079\nEpoch: 0 batch #: 213  of 300 sample #: 199 reconstruction error: 0.097446\nEpoch: 0 batch #: 214  of 300 sample #: 199 reconstruction error: 0.093120\nEpoch: 0 batch #: 215  of 300 sample #: 199 reconstruction error: 0.036615\nEpoch: 0 batch #: 216  of 300 sample #: 199 reconstruction error: 0.090498\nEpoch: 0 batch #: 217  of 300 sample #: 199 reconstruction error: 0.083332\nEpoch: 0 batch #: 218  of 300 sample #: 199 reconstruction error: 0.058683\nEpoch: 0 batch #: 219  of 300 sample #: 199 reconstruction error: 0.080565\nEpoch: 0 batch #: 220  of 300 sample #: 199 reconstruction error: 0.048116\nEpoch: 0 batch #: 221  of 300 sample #: 199 reconstruction error: 0.089158\nEpoch: 0 batch #: 222  of 300 sample #: 199 reconstruction error: 0.085751\nEpoch: 0 batch #: 223  of 300 sample #: 199 reconstruction error: 0.064085\nEpoch: 0 batch #: 224  of 300 sample #: 199 reconstruction error: 0.071414\nEpoch: 0 batch #: 225  of 300 sample #: 199 reconstruction error: 0.072394\nEpoch: 0 batch #: 226  of 300 sample #: 199 reconstruction error: 0.130428\nEpoch: 0 batch #: 227  of 300 sample #: 199 reconstruction error: 0.067877\nEpoch: 0 batch #: 228  of 300 sample #: 199 reconstruction error: 0.091846\nEpoch: 0 batch #: 229  of 300 sample #: 199 reconstruction error: 0.085959\nEpoch: 0 batch #: 230  of 300 sample #: 199 reconstruction error: 0.042471\nEpoch: 0 batch #: 231  of 300 sample #: 199 reconstruction error: 0.029186\nEpoch: 0 batch #: 232  of 300 sample #: 199 reconstruction error: 0.072700\nEpoch: 0 batch #: 233  of 300 sample #: 199 reconstruction error: 0.086096\nEpoch: 0 batch #: 234  of 300 sample #: 199 reconstruction error: 0.066748\nEpoch: 0 batch #: 235  of 300 sample #: 199 reconstruction error: 0.055659\nEpoch: 0 batch #: 236  of 300 sample #: 199 reconstruction error: 0.101707\nEpoch: 0 batch #: 237  of 300 sample #: 199 reconstruction error: 0.067695\nEpoch: 0 batch #: 238  of 300 sample #: 199 reconstruction error: 0.110314\nEpoch: 0 batch #: 239  of 300 sample #: 199 reconstruction error: 0.031462\nEpoch: 0 batch #: 240  of 300 sample #: 199 reconstruction error: 0.102308\nEpoch: 0 batch #: 241  of 300 sample #: 199 reconstruction error: 0.075117\nEpoch: 0 batch #: 242  of 300 sample #: 199 reconstruction error: 0.065623\nEpoch: 0 batch #: 243  of 300 sample #: 199 reconstruction error: 0.069615\nEpoch: 0 batch #: 244  of 300 sample #: 199 reconstruction error: 0.074541\nEpoch: 0 batch #: 245  of 300 sample #: 199 reconstruction error: 0.065289\nEpoch: 0 batch #: 246  of 300 sample #: 199 reconstruction error: 0.076485\nEpoch: 0 batch #: 247  of 300 sample #: 199 reconstruction error: 0.047491\nEpoch: 0 batch #: 248  of 300 sample #: 199 reconstruction error: 0.073779\nEpoch: 0 batch #: 249  of 300 sample #: 199 reconstruction error: 0.041955\nEpoch: 0 batch #: 250  of 300 sample #: 199 reconstruction error: 0.091158\n"
                }
            ],
            "source": "#Parameters\nalpha = 0.01\nepochs = 1\nbatchsize = 200\nweights = []\nerrors = []\nbatch_number = 0\nK = 1\n\n#creating datasets\ntrain_ds = \\\n    tf.data.Dataset.from_tensor_slices((trX, trY)).batch(batchsize)\n\nfor epoch in range(epochs):\n    for batch_x, batch_y in train_ds:\n        batch_number += 1\n        for i_sample in range(batchsize):           \n            for k in range(K):\n                v0_state = batch_x[i_sample]\n                h0_state = hidden_layer(v0_state, W, hb)\n                v1_state = reconstructed_output(h0_state, W, vb)\n                h1_state = hidden_layer(v1_state, W, hb)\n\n                delta_W = tf.matmul(tf.transpose([v0_state]), h0_state) - tf.matmul(tf.transpose([v1_state]), h1_state)\n                W = W + alpha * delta_W\n\n                vb = vb + alpha * tf.reduce_mean(v0_state - v1_state, 0)\n                hb = hb + alpha * tf.reduce_mean(h0_state - h1_state, 0) \n\n                v0_state = v1_state\n\n            if i_sample == batchsize-1:\n                err = error(batch_x[i_sample], v1_state)\n                errors.append(err)\n                weights.append(W)\n                print ( 'Epoch: %d' % epoch, \n                       \"batch #: %i \" % batch_number, \"of %i\" % int(60e3/batchsize), \n                       \"sample #: %i\" % i_sample,\n                       'reconstruction error: %f' % err)\n\n"
        },
        {
            "cell_type": "markdown",
            "metadata": {},
            "source": "Let's take a look at the errors at the end of each batch:\n"
        },
        {
            "cell_type": "code",
            "execution_count": null,
            "metadata": {},
            "outputs": [],
            "source": "plt.plot(errors)\nplt.xlabel(\"Batch Number\")\nplt.ylabel(\"Error\")\nplt.show()"
        },
        {
            "cell_type": "markdown",
            "metadata": {},
            "source": "What is the final weight matrix $W$ after training?\n"
        },
        {
            "cell_type": "code",
            "execution_count": null,
            "metadata": {},
            "outputs": [],
            "source": "print(W.numpy()) # a weight matrix of shape (50,784)"
        },
        {
            "cell_type": "markdown",
            "metadata": {},
            "source": "<a id=\"ref5\"></a>\n\n<h3>Learned features</h3> \n"
        },
        {
            "cell_type": "markdown",
            "metadata": {},
            "source": "We can take each hidden unit and visualize the connections between that hidden unit and each element in the input vector. In our case, we have 50 hidden units. Lets visualize those.\n"
        },
        {
            "cell_type": "markdown",
            "metadata": {},
            "source": "Let's plot the current weights:\n<b>tile_raster_images</b> helps in generating an easy to grasp image from a set of samples or weights. It transforms the <b>uw</b> (with one flattened image per row of size 784), into an array (of size $28\\times28$) in which images are reshaped and laid out like tiles on a floor.\n"
        },
        {
            "cell_type": "code",
            "execution_count": null,
            "metadata": {},
            "outputs": [],
            "source": "tile_raster_images(X=W.numpy().T, img_shape=(28, 28), tile_shape=(5, 10), tile_spacing=(1, 1))\nimport matplotlib.pyplot as plt\nfrom PIL import Image\n%matplotlib inline\nimage = Image.fromarray(tile_raster_images(X=W.numpy().T, img_shape=(28, 28) ,tile_shape=(5, 10), tile_spacing=(1, 1)))\n### Plot image\nplt.rcParams['figure.figsize'] = (18.0, 18.0)\nimgplot = plt.imshow(image)\nimgplot.set_cmap('gray')  "
        },
        {
            "cell_type": "markdown",
            "metadata": {},
            "source": "Each tile in the above visualization corresponds to a vector of connections between a hidden unit and visible layer's units. \n"
        },
        {
            "cell_type": "markdown",
            "metadata": {},
            "source": "Let's look at one of the learned weights corresponding to one of hidden units for example. In this particular square, the gray color represents weight = 0, and the whiter it is, the more positive the weights are (closer to 1). Conversely, the darker pixels are, the more negative the weights. The positive pixels will increase the probability of activation in hidden units (after multiplying by input/visible pixels), and negative pixels will decrease the probability of a unit hidden to be 1 (activated). So, why is this important?  So we can see that this specific square (hidden unit) can detect a feature (e.g. a \"/\" shape) and if it exists in the input.\n"
        },
        {
            "cell_type": "code",
            "execution_count": null,
            "metadata": {},
            "outputs": [],
            "source": "from PIL import Image\nimage = Image.fromarray(tile_raster_images(X =W.numpy().T[10:11], img_shape=(28, 28),tile_shape=(1, 1), tile_spacing=(1, 1)))\n### Plot image\nplt.rcParams['figure.figsize'] = (4.0, 4.0)\nimgplot = plt.imshow(image)\nimgplot.set_cmap('gray')  "
        },
        {
            "cell_type": "markdown",
            "metadata": {},
            "source": "Let's look at the reconstruction of an image now. Imagine that we have a destructed image of figure 3. Lets see if our trained network can fix it:\n\nFirst we plot the image:\n"
        },
        {
            "cell_type": "code",
            "execution_count": null,
            "metadata": {},
            "outputs": [],
            "source": "!wget -O destructed3.jpg  https://ibm.box.com/shared/static/vvm1b63uvuxq88vbw9znpwu5ol380mco.jpg\nimg = Image.open('destructed3.jpg')\nimg"
        },
        {
            "cell_type": "markdown",
            "metadata": {},
            "source": "Now let's pass this image through the neural net:\n"
        },
        {
            "cell_type": "code",
            "execution_count": null,
            "metadata": {},
            "outputs": [],
            "source": "# convert the image to a 1d numpy array\nsample_case = np.array(img.convert('I').resize((28,28))).ravel().reshape((1, -1))/255.0\n\nsample_case = tf.cast(sample_case, dtype=tf.float32)"
        },
        {
            "cell_type": "markdown",
            "metadata": {},
            "source": "Feed the sample case into the network and reconstruct the output:\n"
        },
        {
            "cell_type": "code",
            "execution_count": null,
            "metadata": {},
            "outputs": [],
            "source": "hh0_p = tf.nn.sigmoid(tf.matmul(sample_case, W) + hb)\nhh0_s = tf.round(hh0_p)\n\nprint(\"Probability nodes in hidden layer:\" ,hh0_p)\nprint(\"activated nodes in hidden layer:\" ,hh0_s)\n\n# reconstruct\nvv1_p = tf.nn.sigmoid(tf.matmul(hh0_s, tf.transpose(W)) + vb)\n\nprint(vv1_p)\n#rec_prob = sess.run(vv1_p, feed_dict={ hh0_s: hh0_s_val, W: prv_w, vb: prv_vb})"
        },
        {
            "cell_type": "markdown",
            "metadata": {},
            "source": "Here we plot the reconstructed image:\n"
        },
        {
            "cell_type": "code",
            "execution_count": null,
            "metadata": {},
            "outputs": [],
            "source": "img = Image.fromarray(tile_raster_images(X=vv1_p.numpy(), img_shape=(28, 28),tile_shape=(1, 1), tile_spacing=(1, 1)))\nplt.rcParams['figure.figsize'] = (4.0, 4.0)\nimgplot = plt.imshow(img)\nimgplot.set_cmap('gray') "
        },
        {
            "cell_type": "markdown",
            "metadata": {},
            "source": "### References:\n\n[https://en.wikipedia.org/wiki/Restricted_Boltzmann_machine](https://en.wikipedia.org/wiki/Restricted_Boltzmann_machine?cm_mmc=Email_Newsletter-_-Developer_Ed%2BTech-_-WW_WW-_-SkillsNetwork-Courses-IBMDeveloperSkillsNetwork-DL0120EN-SkillsNetwork-20629446&cm_mmca1=000026UJ&cm_mmca2=10006555&cm_mmca3=M12345678&cvosrc=email.Newsletter.M12345678&cvo_campaign=000026UJ)  \n[http://deeplearning.net/tutorial/rbm.html](http://deeplearning.net/tutorial/rbm.html?cm_mmc=Email_Newsletter-_-Developer_Ed%2BTech-_-WW_WW-_-SkillsNetwork-Courses-IBMDeveloperSkillsNetwork-DL0120EN-SkillsNetwork-20629446&cm_mmca1=000026UJ&cm_mmca2=10006555&cm_mmca3=M12345678&cvosrc=email.Newsletter.M12345678&cvo_campaign=000026UJ&cm_mmc=Email_Newsletter-_-Developer_Ed%2BTech-_-WW_WW-_-SkillsNetwork-Courses-IBMDeveloperSkillsNetwork-DL0120EN-SkillsNetwork-20629446&cm_mmca1=000026UJ&cm_mmca2=10006555&cm_mmca3=M12345678&cvosrc=email.Newsletter.M12345678&cvo_campaign=000026UJ)  \n[http://www.cs.utoronto.ca/~hinton/absps/netflixICML.pdf](http://www.cs.utoronto.ca/~hinton/absps/netflixICML.pdf?cm_mmc=Email_Newsletter-_-Developer_Ed%2BTech-_-WW_WW-_-SkillsNetwork-Courses-IBMDeveloperSkillsNetwork-DL0120EN-SkillsNetwork-20629446&cm_mmca1=000026UJ&cm_mmca2=10006555&cm_mmca3=M12345678&cvosrc=email.Newsletter.M12345678&cvo_campaign=000026UJ&cm_mmc=Email_Newsletter-_-Developer_Ed%2BTech-_-WW_WW-_-SkillsNetwork-Courses-IBMDeveloperSkillsNetwork-DL0120EN-SkillsNetwork-20629446&cm_mmca1=000026UJ&cm_mmca2=10006555&cm_mmca3=M12345678&cvosrc=email.Newsletter.M12345678&cvo_campaign=000026UJ)<br>\n<http://imonad.com/rbm/restricted-boltzmann-machine/>  \n"
        }
    ],
    "metadata": {
        "kernelspec": {
            "display_name": "Python 3.7",
            "language": "python",
            "name": "python3"
        },
        "language_info": {
            "codemirror_mode": {
                "name": "ipython",
                "version": 3
            },
            "file_extension": ".py",
            "mimetype": "text/x-python",
            "name": "python",
            "nbconvert_exporter": "python",
            "pygments_lexer": "ipython3",
            "version": "3.7.9"
        },
        "widgets": {
            "state": {},
            "version": "1.1.2"
        }
    },
    "nbformat": 4,
    "nbformat_minor": 4
}